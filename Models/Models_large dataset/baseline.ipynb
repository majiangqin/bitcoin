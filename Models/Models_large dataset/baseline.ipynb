{
 "cells": [
  {
   "metadata": {},
   "cell_type": "markdown",
   "source": "## Cross-Validation Native Baseline",
   "id": "ff450b1f5e853306"
  },
  {
   "metadata": {
    "collapsed": true,
    "ExecuteTime": {
     "end_time": "2025-05-12T18:07:11.206453Z",
     "start_time": "2025-05-12T18:07:11.078354Z"
    }
   },
   "cell_type": "code",
   "source": [
    "from sklearn.metrics import mean_absolute_error, mean_squared_error\n",
    "import numpy as np\n",
    "import pandas as pd\n",
    "\n",
    "# Define percentage-based Theil's U (consistent with your modeling)\n",
    "def theil_u(y_true, y_pred):\n",
    "    y_true = np.array(y_true)\n",
    "    y_pred = np.array(y_pred)\n",
    "\n",
    "    y_true_pct = (y_true[1:] - y_true[:-1]) / y_true[:-1]\n",
    "    y_pred_pct = (y_pred[1:] - y_true[:-1]) / y_true[:-1]\n",
    "\n",
    "    numerator = np.sqrt(np.mean((y_true_pct - y_pred_pct)**2))\n",
    "    denominator = np.sqrt(np.mean(y_true_pct**2)) + np.sqrt(np.mean(y_pred_pct**2))\n",
    "\n",
    "    return numerator / denominator\n",
    "\n",
    "# Load and preprocess data\n",
    "df = pd.read_csv('../../Data/Data_larger dataset/train_set.csv')\n",
    "df['block_time'] = pd.to_datetime(df['block_time'])\n",
    "df = df.sort_values('block_time')\n",
    "\n",
    "# Cross-validation setup\n",
    "n_total = len(df)\n",
    "fold_size = 144\n",
    "initial_train_size = 9665\n",
    "\n",
    "mae_list = []\n",
    "rmse_list = []\n",
    "theil_u_list = []\n",
    "\n",
    "for i in range(5):\n",
    "    train_end = initial_train_size + i * fold_size\n",
    "    test_start = train_end\n",
    "    test_end = test_start + fold_size\n",
    "\n",
    "    train_data = df.iloc[:train_end]\n",
    "    test_data = df.iloc[test_start:test_end]\n",
    "\n",
    "    # Naive prediction: mean of last 144 values in training\n",
    "    avg_fee = train_data['block_median_fee_rate'].iloc[-fold_size:].mean()\n",
    "    naive_pred = [avg_fee] * fold_size\n",
    "    actual = test_data['block_median_fee_rate'].values\n",
    "\n",
    "    # Evaluation\n",
    "    mae = mean_absolute_error(actual, naive_pred)\n",
    "    rmse = mean_squared_error(actual, naive_pred, squared=False)\n",
    "    u = theil_u(actual, naive_pred)\n",
    "\n",
    "    # Store results\n",
    "    mae_list.append(mae)\n",
    "    rmse_list.append(rmse)\n",
    "    theil_u_list.append(u)\n",
    "\n",
    "\n",
    "\n",
    "print(f\"Naive Baseline (CV avg):\")\n",
    "print(f\"MAE = {np.mean(mae_list):.4f} ± {np.std(mae_list):.4f}\")\n",
    "print(f\"RMSE = {np.mean(rmse_list):.4f} ± {np.std(rmse_list):.4f}\")\n",
    "print(f\"Theil's U = {np.mean(theil_u_list):.4f} ± {np.std(theil_u_list):.4f}\")\n",
    "\n"
   ],
   "id": "initial_id",
   "outputs": [
    {
     "name": "stdout",
     "output_type": "stream",
     "text": [
      "Naive Baseline (CV avg):\n",
      "MAE = 2.7975 ± 1.3002\n",
      "RMSE = 3.2924 ± 1.4758\n",
      "Theil's U = 0.5582 ± 0.0741\n"
     ]
    },
    {
     "name": "stderr",
     "output_type": "stream",
     "text": [
      "/Users/jiangqinma/miniconda3/envs/bitcoin/lib/python3.11/site-packages/sklearn/metrics/_regression.py:492: FutureWarning: 'squared' is deprecated in version 1.4 and will be removed in 1.6. To calculate the root mean squared error, use the function'root_mean_squared_error'.\n",
      "  warnings.warn(\n",
      "/Users/jiangqinma/miniconda3/envs/bitcoin/lib/python3.11/site-packages/sklearn/metrics/_regression.py:492: FutureWarning: 'squared' is deprecated in version 1.4 and will be removed in 1.6. To calculate the root mean squared error, use the function'root_mean_squared_error'.\n",
      "  warnings.warn(\n",
      "/Users/jiangqinma/miniconda3/envs/bitcoin/lib/python3.11/site-packages/sklearn/metrics/_regression.py:492: FutureWarning: 'squared' is deprecated in version 1.4 and will be removed in 1.6. To calculate the root mean squared error, use the function'root_mean_squared_error'.\n",
      "  warnings.warn(\n",
      "/Users/jiangqinma/miniconda3/envs/bitcoin/lib/python3.11/site-packages/sklearn/metrics/_regression.py:492: FutureWarning: 'squared' is deprecated in version 1.4 and will be removed in 1.6. To calculate the root mean squared error, use the function'root_mean_squared_error'.\n",
      "  warnings.warn(\n",
      "/Users/jiangqinma/miniconda3/envs/bitcoin/lib/python3.11/site-packages/sklearn/metrics/_regression.py:492: FutureWarning: 'squared' is deprecated in version 1.4 and will be removed in 1.6. To calculate the root mean squared error, use the function'root_mean_squared_error'.\n",
      "  warnings.warn(\n"
     ]
    }
   ],
   "execution_count": 1
  },
  {
   "metadata": {},
   "cell_type": "markdown",
   "source": "## Entire Dataset to Predict the Next 144 Blocks and Compare with Actual Values",
   "id": "c20dc498d4fd6b9d"
  },
  {
   "metadata": {
    "ExecuteTime": {
     "end_time": "2025-04-08T17:59:05.778998Z",
     "start_time": "2025-04-08T17:59:05.743745Z"
    }
   },
   "cell_type": "code",
   "source": [
    "import pandas as pd\n",
    "from sklearn.metrics import mean_absolute_error, mean_squared_error\n",
    "import numpy as np\n",
    "\n",
    "def theil_u(y_true, y_pred):\n",
    "    y_true = np.array(y_true)\n",
    "    y_pred = np.array(y_pred)\n",
    "\n",
    "    y_true_pct = (y_true[1:] - y_true[:-1]) / y_true[:-1]\n",
    "    y_pred_pct = (y_pred[1:] - y_true[:-1]) / y_true[:-1]\n",
    "\n",
    "    numerator = np.sqrt(np.mean((y_true_pct - y_pred_pct)**2))\n",
    "    denominator = np.sqrt(np.mean(y_true_pct**2)) + np.sqrt(np.mean(y_pred_pct**2))\n",
    "\n",
    "    return numerator / denominator\n",
    "\n",
    "# Load datasets\n",
    "train_df = pd.read_csv('../../Data/Data_larger dataset/train_set.csv')\n",
    "test_df = pd.read_csv('../../Data/Data_larger dataset/test_set.csv')\n",
    "\n",
    "# Sort and preprocess\n",
    "train_df['block_time'] = pd.to_datetime(train_df['block_time'])\n",
    "test_df['block_time'] = pd.to_datetime(test_df['block_time'])\n",
    "\n",
    "train_df = train_df.sort_values('block_time')\n",
    "test_df = test_df.sort_values('block_time')\n",
    "\n",
    "# Naive prediction: average of last 144 fee rates in training set\n",
    "naive_avg = train_df['block_median_fee_rate'].iloc[-144:].mean()\n",
    "naive_pred = [naive_avg] * len(test_df)\n",
    "\n",
    "# Actual values from test set\n",
    "actual = test_df['block_median_fee_rate'].values\n",
    "\n",
    "# Evaluation\n",
    "mae = mean_absolute_error(actual, naive_pred)\n",
    "rmse = mean_squared_error(actual, naive_pred, squared=False)\n",
    "theils_u_score = theil_u(actual, naive_pred)\n",
    "\n",
    "print(f\"Naive Baseline on Test Set:\\nMAE = {mae:.4f}, RMSE = {rmse:.4f}, Theil's U = {theils_u_score:.4f}\")\n"
   ],
   "id": "1ae1941e4b5b5908",
   "outputs": [
    {
     "name": "stdout",
     "output_type": "stream",
     "text": [
      "Naive Baseline on Test Set:\n",
      "MAE = 1.4479, RMSE = 1.7789, Theil's U = 0.5230\n"
     ]
    },
    {
     "name": "stderr",
     "output_type": "stream",
     "text": [
      "/Users/jiangqinma/miniconda3/envs/bitcoin/lib/python3.11/site-packages/sklearn/metrics/_regression.py:492: FutureWarning: 'squared' is deprecated in version 1.4 and will be removed in 1.6. To calculate the root mean squared error, use the function'root_mean_squared_error'.\n",
      "  warnings.warn(\n"
     ]
    }
   ],
   "execution_count": 4
  },
  {
   "metadata": {},
   "cell_type": "code",
   "outputs": [],
   "execution_count": null,
   "source": "",
   "id": "faa7f9c5b85f5649"
  }
 ],
 "metadata": {
  "kernelspec": {
   "display_name": "Python 3",
   "language": "python",
   "name": "python3"
  },
  "language_info": {
   "codemirror_mode": {
    "name": "ipython",
    "version": 2
   },
   "file_extension": ".py",
   "mimetype": "text/x-python",
   "name": "python",
   "nbconvert_exporter": "python",
   "pygments_lexer": "ipython2",
   "version": "2.7.6"
  }
 },
 "nbformat": 4,
 "nbformat_minor": 5
}
