{
 "cells": [
  {
   "cell_type": "code",
   "execution_count": 3,
   "id": "291ecc51d60a1fe6",
   "metadata": {
    "ExecuteTime": {
     "end_time": "2024-09-08T05:31:05.523523Z",
     "start_time": "2024-09-08T05:31:05.516381Z"
    }
   },
   "outputs": [],
   "source": [
    "from sklearn.model_selection import train_test_split\n",
    "from sklearn.ensemble import RandomForestRegressor\n",
    "from sklearn.metrics import mean_absolute_error, r2_score\n",
    "\n",
    "import pandas as pd\n"
   ]
  },
  {
   "cell_type": "markdown",
   "id": "95f0e2374ece7a7c",
   "metadata": {},
   "source": [
    "Define Evaluation Metrics\n",
    "\n",
    "Since  predicting a continuous variable (block_median_fee_rate), regression metrics like:\n",
    "\n",
    "Mean Absolute Error (MAE)\n",
    "\n",
    "Root Mean Squared Error (RMSE)\n",
    "\n",
    "R² Score"
   ]
  },
  {
   "cell_type": "code",
   "id": "b291ac857874c745",
   "metadata": {
    "ExecuteTime": {
     "end_time": "2024-09-08T19:08:42.909875Z",
     "start_time": "2024-09-08T19:08:42.095743Z"
    }
   },
   "source": [
    "!pip install xgboost statsmodels tensorflow\n"
   ],
   "outputs": [
    {
     "name": "stdout",
     "output_type": "stream",
     "text": [
      "Requirement already satisfied: xgboost in /Users/jiangqinma/miniconda3/envs/bitcoin/lib/python3.11/site-packages (2.1.1)\r\n",
      "Requirement already satisfied: statsmodels in /Users/jiangqinma/miniconda3/envs/bitcoin/lib/python3.11/site-packages (0.14.2)\r\n",
      "Requirement already satisfied: tensorflow in /Users/jiangqinma/miniconda3/envs/bitcoin/lib/python3.11/site-packages (2.17.0)\r\n",
      "Requirement already satisfied: numpy in /Users/jiangqinma/miniconda3/envs/bitcoin/lib/python3.11/site-packages (from xgboost) (1.26.4)\r\n",
      "Requirement already satisfied: scipy in /Users/jiangqinma/miniconda3/envs/bitcoin/lib/python3.11/site-packages (from xgboost) (1.14.1)\r\n",
      "Requirement already satisfied: pandas!=2.1.0,>=1.4 in /Users/jiangqinma/miniconda3/envs/bitcoin/lib/python3.11/site-packages (from statsmodels) (2.2.2)\r\n",
      "Requirement already satisfied: patsy>=0.5.6 in /Users/jiangqinma/miniconda3/envs/bitcoin/lib/python3.11/site-packages (from statsmodels) (0.5.6)\r\n",
      "Requirement already satisfied: packaging>=21.3 in /Users/jiangqinma/miniconda3/envs/bitcoin/lib/python3.11/site-packages (from statsmodels) (24.1)\r\n",
      "Requirement already satisfied: absl-py>=1.0.0 in /Users/jiangqinma/miniconda3/envs/bitcoin/lib/python3.11/site-packages (from tensorflow) (2.1.0)\r\n",
      "Requirement already satisfied: astunparse>=1.6.0 in /Users/jiangqinma/miniconda3/envs/bitcoin/lib/python3.11/site-packages (from tensorflow) (1.6.3)\r\n",
      "Requirement already satisfied: flatbuffers>=24.3.25 in /Users/jiangqinma/miniconda3/envs/bitcoin/lib/python3.11/site-packages (from tensorflow) (24.3.25)\r\n",
      "Requirement already satisfied: gast!=0.5.0,!=0.5.1,!=0.5.2,>=0.2.1 in /Users/jiangqinma/miniconda3/envs/bitcoin/lib/python3.11/site-packages (from tensorflow) (0.6.0)\r\n",
      "Requirement already satisfied: google-pasta>=0.1.1 in /Users/jiangqinma/miniconda3/envs/bitcoin/lib/python3.11/site-packages (from tensorflow) (0.2.0)\r\n",
      "Requirement already satisfied: h5py>=3.10.0 in /Users/jiangqinma/miniconda3/envs/bitcoin/lib/python3.11/site-packages (from tensorflow) (3.11.0)\r\n",
      "Requirement already satisfied: libclang>=13.0.0 in /Users/jiangqinma/miniconda3/envs/bitcoin/lib/python3.11/site-packages (from tensorflow) (18.1.1)\r\n",
      "Requirement already satisfied: ml-dtypes<0.5.0,>=0.3.1 in /Users/jiangqinma/miniconda3/envs/bitcoin/lib/python3.11/site-packages (from tensorflow) (0.4.0)\r\n",
      "Requirement already satisfied: opt-einsum>=2.3.2 in /Users/jiangqinma/miniconda3/envs/bitcoin/lib/python3.11/site-packages (from tensorflow) (3.3.0)\r\n",
      "Requirement already satisfied: protobuf!=4.21.0,!=4.21.1,!=4.21.2,!=4.21.3,!=4.21.4,!=4.21.5,<5.0.0dev,>=3.20.3 in /Users/jiangqinma/miniconda3/envs/bitcoin/lib/python3.11/site-packages (from tensorflow) (4.25.4)\r\n",
      "Requirement already satisfied: requests<3,>=2.21.0 in /Users/jiangqinma/miniconda3/envs/bitcoin/lib/python3.11/site-packages (from tensorflow) (2.32.3)\r\n",
      "Requirement already satisfied: setuptools in /Users/jiangqinma/miniconda3/envs/bitcoin/lib/python3.11/site-packages (from tensorflow) (72.2.0)\r\n",
      "Requirement already satisfied: six>=1.12.0 in /Users/jiangqinma/miniconda3/envs/bitcoin/lib/python3.11/site-packages (from tensorflow) (1.16.0)\r\n",
      "Requirement already satisfied: termcolor>=1.1.0 in /Users/jiangqinma/miniconda3/envs/bitcoin/lib/python3.11/site-packages (from tensorflow) (2.4.0)\r\n",
      "Requirement already satisfied: typing-extensions>=3.6.6 in /Users/jiangqinma/miniconda3/envs/bitcoin/lib/python3.11/site-packages (from tensorflow) (4.12.2)\r\n",
      "Requirement already satisfied: wrapt>=1.11.0 in /Users/jiangqinma/miniconda3/envs/bitcoin/lib/python3.11/site-packages (from tensorflow) (1.16.0)\r\n",
      "Requirement already satisfied: grpcio<2.0,>=1.24.3 in /Users/jiangqinma/miniconda3/envs/bitcoin/lib/python3.11/site-packages (from tensorflow) (1.66.1)\r\n",
      "Requirement already satisfied: tensorboard<2.18,>=2.17 in /Users/jiangqinma/miniconda3/envs/bitcoin/lib/python3.11/site-packages (from tensorflow) (2.17.1)\r\n",
      "Requirement already satisfied: keras>=3.2.0 in /Users/jiangqinma/miniconda3/envs/bitcoin/lib/python3.11/site-packages (from tensorflow) (3.5.0)\r\n",
      "Requirement already satisfied: tensorflow-io-gcs-filesystem>=0.23.1 in /Users/jiangqinma/miniconda3/envs/bitcoin/lib/python3.11/site-packages (from tensorflow) (0.37.1)\r\n",
      "Requirement already satisfied: wheel<1.0,>=0.23.0 in /Users/jiangqinma/miniconda3/envs/bitcoin/lib/python3.11/site-packages (from astunparse>=1.6.0->tensorflow) (0.44.0)\r\n",
      "Requirement already satisfied: rich in /Users/jiangqinma/miniconda3/envs/bitcoin/lib/python3.11/site-packages (from keras>=3.2.0->tensorflow) (13.8.0)\r\n",
      "Requirement already satisfied: namex in /Users/jiangqinma/miniconda3/envs/bitcoin/lib/python3.11/site-packages (from keras>=3.2.0->tensorflow) (0.0.8)\r\n",
      "Requirement already satisfied: optree in /Users/jiangqinma/miniconda3/envs/bitcoin/lib/python3.11/site-packages (from keras>=3.2.0->tensorflow) (0.12.1)\r\n",
      "Requirement already satisfied: python-dateutil>=2.8.2 in /Users/jiangqinma/miniconda3/envs/bitcoin/lib/python3.11/site-packages (from pandas!=2.1.0,>=1.4->statsmodels) (2.9.0)\r\n",
      "Requirement already satisfied: pytz>=2020.1 in /Users/jiangqinma/miniconda3/envs/bitcoin/lib/python3.11/site-packages (from pandas!=2.1.0,>=1.4->statsmodels) (2024.1)\r\n",
      "Requirement already satisfied: tzdata>=2022.7 in /Users/jiangqinma/miniconda3/envs/bitcoin/lib/python3.11/site-packages (from pandas!=2.1.0,>=1.4->statsmodels) (2024.1)\r\n",
      "Requirement already satisfied: charset-normalizer<4,>=2 in /Users/jiangqinma/miniconda3/envs/bitcoin/lib/python3.11/site-packages (from requests<3,>=2.21.0->tensorflow) (3.3.2)\r\n",
      "Requirement already satisfied: idna<4,>=2.5 in /Users/jiangqinma/miniconda3/envs/bitcoin/lib/python3.11/site-packages (from requests<3,>=2.21.0->tensorflow) (3.8)\r\n",
      "Requirement already satisfied: urllib3<3,>=1.21.1 in /Users/jiangqinma/miniconda3/envs/bitcoin/lib/python3.11/site-packages (from requests<3,>=2.21.0->tensorflow) (2.2.2)\r\n",
      "Requirement already satisfied: certifi>=2017.4.17 in /Users/jiangqinma/miniconda3/envs/bitcoin/lib/python3.11/site-packages (from requests<3,>=2.21.0->tensorflow) (2024.7.4)\r\n",
      "Requirement already satisfied: markdown>=2.6.8 in /Users/jiangqinma/miniconda3/envs/bitcoin/lib/python3.11/site-packages (from tensorboard<2.18,>=2.17->tensorflow) (3.7)\r\n",
      "Requirement already satisfied: tensorboard-data-server<0.8.0,>=0.7.0 in /Users/jiangqinma/miniconda3/envs/bitcoin/lib/python3.11/site-packages (from tensorboard<2.18,>=2.17->tensorflow) (0.7.2)\r\n",
      "Requirement already satisfied: werkzeug>=1.0.1 in /Users/jiangqinma/miniconda3/envs/bitcoin/lib/python3.11/site-packages (from tensorboard<2.18,>=2.17->tensorflow) (3.0.4)\r\n",
      "Requirement already satisfied: MarkupSafe>=2.1.1 in /Users/jiangqinma/miniconda3/envs/bitcoin/lib/python3.11/site-packages (from werkzeug>=1.0.1->tensorboard<2.18,>=2.17->tensorflow) (2.1.5)\r\n",
      "Requirement already satisfied: markdown-it-py>=2.2.0 in /Users/jiangqinma/miniconda3/envs/bitcoin/lib/python3.11/site-packages (from rich->keras>=3.2.0->tensorflow) (3.0.0)\r\n",
      "Requirement already satisfied: pygments<3.0.0,>=2.13.0 in /Users/jiangqinma/miniconda3/envs/bitcoin/lib/python3.11/site-packages (from rich->keras>=3.2.0->tensorflow) (2.18.0)\r\n",
      "Requirement already satisfied: mdurl~=0.1 in /Users/jiangqinma/miniconda3/envs/bitcoin/lib/python3.11/site-packages (from markdown-it-py>=2.2.0->rich->keras>=3.2.0->tensorflow) (0.1.2)\r\n"
     ]
    }
   ],
   "execution_count": 4
  },
  {
   "cell_type": "code",
   "id": "7ce9b78ff34bb335",
   "metadata": {
    "ExecuteTime": {
     "end_time": "2024-09-08T19:08:47.929460Z",
     "start_time": "2024-09-08T19:08:43.827219Z"
    }
   },
   "source": [
    "import numpy as np\n",
    "import pandas as pd\n",
    "from sklearn.model_selection import train_test_split\n",
    "from sklearn.metrics import mean_absolute_error, r2_score, mean_squared_error\n",
    "from sklearn.ensemble import RandomForestRegressor\n",
    "import xgboost as xgb\n",
    "from statsmodels.tsa.arima.model import ARIMA\n",
    "from tensorflow.keras.models import Sequential\n",
    "from tensorflow.keras.layers import LSTM, Dense\n",
    "\n"
   ],
   "outputs": [],
   "execution_count": 5
  },
  {
   "cell_type": "code",
   "id": "8ca23d33d0fdf178",
   "metadata": {
    "ExecuteTime": {
     "end_time": "2024-09-08T19:08:52.498190Z",
     "start_time": "2024-09-08T19:08:52.356798Z"
    }
   },
   "source": [
    "df = pd.read_csv('bitcoin_data_cleaned.csv')\n",
    "df = df.set_index('block_time')\n",
    "df = df.drop(columns=['timestamp'])\n",
    "\n",
    "# Define features (X) and target (y)\n",
    "X = df.drop(columns=['block_median_fee_rate'])\n",
    "y = df['block_median_fee_rate']\n",
    "\n",
    "X_train, X_test, y_train, y_test = train_test_split(X, y, test_size=0.2, random_state=42)\n",
    "\n"
   ],
   "outputs": [],
   "execution_count": 6
  },
  {
   "cell_type": "code",
   "id": "ec233aca8557f1fc",
   "metadata": {
    "ExecuteTime": {
     "end_time": "2024-09-08T19:09:58.454825Z",
     "start_time": "2024-09-08T19:09:30.433936Z"
    }
   },
   "source": [
    "# Store performance metrics for each model\n",
    "results = {}\n",
    "\n",
    "# 1. Random Forest\n",
    "rf_model = RandomForestRegressor(n_estimators=100, random_state=42)\n",
    "rf_model.fit(X_train, y_train)\n",
    "rf_y_pred = rf_model.predict(X_test)\n",
    "results['Random Forest'] = {\n",
    "    'MAE': mean_absolute_error(y_test, rf_y_pred),\n",
    "    'RMSE': np.sqrt(mean_squared_error(y_test, rf_y_pred)),\n",
    "    'R²': r2_score(y_test, rf_y_pred)\n",
    "}\n",
    "\n"
   ],
   "outputs": [],
   "execution_count": 7
  },
  {
   "metadata": {
    "ExecuteTime": {
     "end_time": "2024-09-08T19:10:27.696683Z",
     "start_time": "2024-09-08T19:10:27.574Z"
    }
   },
   "cell_type": "code",
   "source": [
    "# 2. XGBoost\n",
    "xgb_model = xgb.XGBRegressor(n_estimators=100, random_state=42)\n",
    "xgb_model.fit(X_train, y_train)\n",
    "xgb_y_pred = xgb_model.predict(X_test)\n",
    "results['XGBoost'] = {\n",
    "    'MAE': mean_absolute_error(y_test, xgb_y_pred),\n",
    "    'RMSE': np.sqrt(mean_squared_error(y_test, xgb_y_pred)),\n",
    "    'R²': r2_score(y_test, xgb_y_pred)\n",
    "}\n",
    "\n"
   ],
   "id": "c068d1a96bcbf41c",
   "outputs": [],
   "execution_count": 8
  },
  {
   "metadata": {
    "ExecuteTime": {
     "end_time": "2024-09-08T19:11:33.911717Z",
     "start_time": "2024-09-08T19:10:30.334823Z"
    }
   },
   "cell_type": "code",
   "source": [
    "# 3. LSTM Model\n",
    "def create_lstm_model(input_shape):\n",
    "    model = Sequential()\n",
    "    model.add(LSTM(units=50, return_sequences=True, input_shape=input_shape))\n",
    "    model.add(LSTM(units=50))\n",
    "    model.add(Dense(1))\n",
    "    model.compile(loss='mean_squared_error', optimizer='adam')\n",
    "    return model\n",
    "\n",
    "# Reshape data for LSTM\n",
    "X_train_lstm = X_train.values.reshape((X_train.shape[0], X_train.shape[1], 1))\n",
    "X_test_lstm = X_test.values.reshape((X_test.shape[0], X_test.shape[1], 1))\n",
    "\n",
    "lstm_model = create_lstm_model((X_train_lstm.shape[1], 1))\n",
    "lstm_model.fit(X_train_lstm, y_train, epochs=10, batch_size=32, verbose=2)\n",
    "lstm_y_pred = lstm_model.predict(X_test_lstm)\n",
    "results['LSTM'] = {\n",
    "    'MAE': mean_absolute_error(y_test, lstm_y_pred),\n",
    "    'RMSE': np.sqrt(mean_squared_error(y_test, lstm_y_pred)),\n",
    "    'R²': r2_score(y_test, lstm_y_pred)\n",
    "}\n",
    "\n"
   ],
   "id": "9361f82307a7f563",
   "outputs": [
    {
     "name": "stdout",
     "output_type": "stream",
     "text": [
      "Epoch 1/10\n"
     ]
    },
    {
     "name": "stderr",
     "output_type": "stream",
     "text": [
      "/Users/jiangqinma/miniconda3/envs/bitcoin/lib/python3.11/site-packages/keras/src/layers/rnn/rnn.py:204: UserWarning: Do not pass an `input_shape`/`input_dim` argument to a layer. When using Sequential models, prefer using an `Input(shape)` object as the first layer in the model instead.\n",
      "  super().__init__(**kwargs)\n"
     ]
    },
    {
     "name": "stdout",
     "output_type": "stream",
     "text": [
      "1198/1198 - 7s - 6ms/step - loss: 3.7803e-04\n",
      "Epoch 2/10\n",
      "1198/1198 - 6s - 5ms/step - loss: 2.1289e-07\n",
      "Epoch 3/10\n",
      "1198/1198 - 6s - 5ms/step - loss: 7.7129e-08\n",
      "Epoch 4/10\n",
      "1198/1198 - 6s - 5ms/step - loss: 3.5196e-06\n",
      "Epoch 5/10\n",
      "1198/1198 - 6s - 5ms/step - loss: 2.0264e-06\n",
      "Epoch 6/10\n",
      "1198/1198 - 7s - 6ms/step - loss: 2.9701e-06\n",
      "Epoch 7/10\n",
      "1198/1198 - 6s - 5ms/step - loss: 2.3219e-06\n",
      "Epoch 8/10\n",
      "1198/1198 - 6s - 5ms/step - loss: 1.8181e-06\n",
      "Epoch 9/10\n",
      "1198/1198 - 6s - 5ms/step - loss: 2.9743e-06\n",
      "Epoch 10/10\n",
      "1198/1198 - 6s - 5ms/step - loss: 7.4574e-07\n",
      "\u001B[1m300/300\u001B[0m \u001B[32m━━━━━━━━━━━━━━━━━━━━\u001B[0m\u001B[37m\u001B[0m \u001B[1m1s\u001B[0m 2ms/step\n"
     ]
    }
   ],
   "execution_count": 9
  },
  {
   "metadata": {
    "ExecuteTime": {
     "end_time": "2024-09-08T19:14:57.923790Z",
     "start_time": "2024-09-08T19:14:57.916141Z"
    }
   },
   "cell_type": "code",
   "source": [
    "# 4. Compare results\n",
    "print(\"Model Comparison Results:\")\n",
    "for model, metrics in results.items():\n",
    "    print(f\"{model}: MAE = {metrics['MAE']}, RMSE = {metrics['RMSE']}, R² = {metrics['R²']}\")\n"
   ],
   "id": "90bfaa150dc4d13a",
   "outputs": [
    {
     "name": "stdout",
     "output_type": "stream",
     "text": [
      "Model Comparison Results:\n",
      "Random Forest: MAE = 5.991443900256219e-08, RMSE = 1.3488465262316422e-07, R² = 0.9517162245256123\n",
      "XGBoost: MAE = 3.881243214433048e-07, RMSE = 6.139094598098831e-07, R² = -0.00019527177549383268\n",
      "LSTM: MAE = 0.0004571340420475348, RMSE = 0.00046049902536819855, R² = -562772.4193305996\n"
     ]
    }
   ],
   "execution_count": 12
  },
  {
   "metadata": {},
   "cell_type": "code",
   "outputs": [],
   "execution_count": null,
   "source": "",
   "id": "b334419c62f8db7"
  }
 ],
 "metadata": {
  "kernelspec": {
   "display_name": "Python 3 (ipykernel)",
   "language": "python",
   "name": "python3"
  },
  "language_info": {
   "codemirror_mode": {
    "name": "ipython",
    "version": 3
   },
   "file_extension": ".py",
   "mimetype": "text/x-python",
   "name": "python",
   "nbconvert_exporter": "python",
   "pygments_lexer": "ipython3",
   "version": "3.11.9"
  }
 },
 "nbformat": 4,
 "nbformat_minor": 5
}
