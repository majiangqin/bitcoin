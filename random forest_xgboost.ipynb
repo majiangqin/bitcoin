{
 "cells": [
  {
   "cell_type": "markdown",
   "id": "95f0e2374ece7a7c",
   "metadata": {},
   "source": [
    "Define Evaluation Metrics\n",
    "\n",
    "Since  predicting a continuous variable (block_median_fee_rate), regression metrics like:\n",
    "\n",
    "Mean Absolute Error (MAE)\n",
    "\n",
    "Root Mean Squared Error (RMSE)\n",
    "\n",
    "R² Score"
   ]
  },
  {
   "cell_type": "code",
   "id": "b291ac857874c745",
   "metadata": {
    "ExecuteTime": {
     "end_time": "2024-09-22T04:46:05.190755Z",
     "start_time": "2024-09-22T04:46:04.324179Z"
    }
   },
   "source": [
    "!pip install xgboost statsmodels tensorflow\n"
   ],
   "outputs": [
    {
     "name": "stdout",
     "output_type": "stream",
     "text": [
      "Requirement already satisfied: xgboost in /Users/jiangqinma/miniconda3/envs/bitcoin/lib/python3.11/site-packages (2.1.1)\r\n",
      "Requirement already satisfied: statsmodels in /Users/jiangqinma/miniconda3/envs/bitcoin/lib/python3.11/site-packages (0.14.2)\r\n",
      "Requirement already satisfied: tensorflow in /Users/jiangqinma/miniconda3/envs/bitcoin/lib/python3.11/site-packages (2.17.0)\r\n",
      "Requirement already satisfied: numpy in /Users/jiangqinma/miniconda3/envs/bitcoin/lib/python3.11/site-packages (from xgboost) (1.26.4)\r\n",
      "Requirement already satisfied: scipy in /Users/jiangqinma/miniconda3/envs/bitcoin/lib/python3.11/site-packages (from xgboost) (1.14.1)\r\n",
      "Requirement already satisfied: pandas!=2.1.0,>=1.4 in /Users/jiangqinma/miniconda3/envs/bitcoin/lib/python3.11/site-packages (from statsmodels) (2.2.2)\r\n",
      "Requirement already satisfied: patsy>=0.5.6 in /Users/jiangqinma/miniconda3/envs/bitcoin/lib/python3.11/site-packages (from statsmodels) (0.5.6)\r\n",
      "Requirement already satisfied: packaging>=21.3 in /Users/jiangqinma/miniconda3/envs/bitcoin/lib/python3.11/site-packages (from statsmodels) (24.1)\r\n",
      "Requirement already satisfied: absl-py>=1.0.0 in /Users/jiangqinma/miniconda3/envs/bitcoin/lib/python3.11/site-packages (from tensorflow) (2.1.0)\r\n",
      "Requirement already satisfied: astunparse>=1.6.0 in /Users/jiangqinma/miniconda3/envs/bitcoin/lib/python3.11/site-packages (from tensorflow) (1.6.3)\r\n",
      "Requirement already satisfied: flatbuffers>=24.3.25 in /Users/jiangqinma/miniconda3/envs/bitcoin/lib/python3.11/site-packages (from tensorflow) (24.3.25)\r\n",
      "Requirement already satisfied: gast!=0.5.0,!=0.5.1,!=0.5.2,>=0.2.1 in /Users/jiangqinma/miniconda3/envs/bitcoin/lib/python3.11/site-packages (from tensorflow) (0.6.0)\r\n",
      "Requirement already satisfied: google-pasta>=0.1.1 in /Users/jiangqinma/miniconda3/envs/bitcoin/lib/python3.11/site-packages (from tensorflow) (0.2.0)\r\n",
      "Requirement already satisfied: h5py>=3.10.0 in /Users/jiangqinma/miniconda3/envs/bitcoin/lib/python3.11/site-packages (from tensorflow) (3.11.0)\r\n",
      "Requirement already satisfied: libclang>=13.0.0 in /Users/jiangqinma/miniconda3/envs/bitcoin/lib/python3.11/site-packages (from tensorflow) (18.1.1)\r\n",
      "Requirement already satisfied: ml-dtypes<0.5.0,>=0.3.1 in /Users/jiangqinma/miniconda3/envs/bitcoin/lib/python3.11/site-packages (from tensorflow) (0.4.0)\r\n",
      "Requirement already satisfied: opt-einsum>=2.3.2 in /Users/jiangqinma/miniconda3/envs/bitcoin/lib/python3.11/site-packages (from tensorflow) (3.3.0)\r\n",
      "Requirement already satisfied: protobuf!=4.21.0,!=4.21.1,!=4.21.2,!=4.21.3,!=4.21.4,!=4.21.5,<5.0.0dev,>=3.20.3 in /Users/jiangqinma/miniconda3/envs/bitcoin/lib/python3.11/site-packages (from tensorflow) (4.25.4)\r\n",
      "Requirement already satisfied: requests<3,>=2.21.0 in /Users/jiangqinma/miniconda3/envs/bitcoin/lib/python3.11/site-packages (from tensorflow) (2.32.3)\r\n",
      "Requirement already satisfied: setuptools in /Users/jiangqinma/miniconda3/envs/bitcoin/lib/python3.11/site-packages (from tensorflow) (72.2.0)\r\n",
      "Requirement already satisfied: six>=1.12.0 in /Users/jiangqinma/miniconda3/envs/bitcoin/lib/python3.11/site-packages (from tensorflow) (1.16.0)\r\n",
      "Requirement already satisfied: termcolor>=1.1.0 in /Users/jiangqinma/miniconda3/envs/bitcoin/lib/python3.11/site-packages (from tensorflow) (2.4.0)\r\n",
      "Requirement already satisfied: typing-extensions>=3.6.6 in /Users/jiangqinma/miniconda3/envs/bitcoin/lib/python3.11/site-packages (from tensorflow) (4.12.2)\r\n",
      "Requirement already satisfied: wrapt>=1.11.0 in /Users/jiangqinma/miniconda3/envs/bitcoin/lib/python3.11/site-packages (from tensorflow) (1.16.0)\r\n",
      "Requirement already satisfied: grpcio<2.0,>=1.24.3 in /Users/jiangqinma/miniconda3/envs/bitcoin/lib/python3.11/site-packages (from tensorflow) (1.66.1)\r\n",
      "Requirement already satisfied: tensorboard<2.18,>=2.17 in /Users/jiangqinma/miniconda3/envs/bitcoin/lib/python3.11/site-packages (from tensorflow) (2.17.1)\r\n",
      "Requirement already satisfied: keras>=3.2.0 in /Users/jiangqinma/miniconda3/envs/bitcoin/lib/python3.11/site-packages (from tensorflow) (3.5.0)\r\n",
      "Requirement already satisfied: tensorflow-io-gcs-filesystem>=0.23.1 in /Users/jiangqinma/miniconda3/envs/bitcoin/lib/python3.11/site-packages (from tensorflow) (0.37.1)\r\n",
      "Requirement already satisfied: wheel<1.0,>=0.23.0 in /Users/jiangqinma/miniconda3/envs/bitcoin/lib/python3.11/site-packages (from astunparse>=1.6.0->tensorflow) (0.44.0)\r\n",
      "Requirement already satisfied: rich in /Users/jiangqinma/miniconda3/envs/bitcoin/lib/python3.11/site-packages (from keras>=3.2.0->tensorflow) (13.8.0)\r\n",
      "Requirement already satisfied: namex in /Users/jiangqinma/miniconda3/envs/bitcoin/lib/python3.11/site-packages (from keras>=3.2.0->tensorflow) (0.0.8)\r\n",
      "Requirement already satisfied: optree in /Users/jiangqinma/miniconda3/envs/bitcoin/lib/python3.11/site-packages (from keras>=3.2.0->tensorflow) (0.12.1)\r\n",
      "Requirement already satisfied: python-dateutil>=2.8.2 in /Users/jiangqinma/miniconda3/envs/bitcoin/lib/python3.11/site-packages (from pandas!=2.1.0,>=1.4->statsmodels) (2.9.0)\r\n",
      "Requirement already satisfied: pytz>=2020.1 in /Users/jiangqinma/miniconda3/envs/bitcoin/lib/python3.11/site-packages (from pandas!=2.1.0,>=1.4->statsmodels) (2024.1)\r\n",
      "Requirement already satisfied: tzdata>=2022.7 in /Users/jiangqinma/miniconda3/envs/bitcoin/lib/python3.11/site-packages (from pandas!=2.1.0,>=1.4->statsmodels) (2024.1)\r\n",
      "Requirement already satisfied: charset-normalizer<4,>=2 in /Users/jiangqinma/miniconda3/envs/bitcoin/lib/python3.11/site-packages (from requests<3,>=2.21.0->tensorflow) (3.3.2)\r\n",
      "Requirement already satisfied: idna<4,>=2.5 in /Users/jiangqinma/miniconda3/envs/bitcoin/lib/python3.11/site-packages (from requests<3,>=2.21.0->tensorflow) (3.8)\r\n",
      "Requirement already satisfied: urllib3<3,>=1.21.1 in /Users/jiangqinma/miniconda3/envs/bitcoin/lib/python3.11/site-packages (from requests<3,>=2.21.0->tensorflow) (2.2.2)\r\n",
      "Requirement already satisfied: certifi>=2017.4.17 in /Users/jiangqinma/miniconda3/envs/bitcoin/lib/python3.11/site-packages (from requests<3,>=2.21.0->tensorflow) (2024.7.4)\r\n",
      "Requirement already satisfied: markdown>=2.6.8 in /Users/jiangqinma/miniconda3/envs/bitcoin/lib/python3.11/site-packages (from tensorboard<2.18,>=2.17->tensorflow) (3.7)\r\n",
      "Requirement already satisfied: tensorboard-data-server<0.8.0,>=0.7.0 in /Users/jiangqinma/miniconda3/envs/bitcoin/lib/python3.11/site-packages (from tensorboard<2.18,>=2.17->tensorflow) (0.7.2)\r\n",
      "Requirement already satisfied: werkzeug>=1.0.1 in /Users/jiangqinma/miniconda3/envs/bitcoin/lib/python3.11/site-packages (from tensorboard<2.18,>=2.17->tensorflow) (3.0.4)\r\n",
      "Requirement already satisfied: MarkupSafe>=2.1.1 in /Users/jiangqinma/miniconda3/envs/bitcoin/lib/python3.11/site-packages (from werkzeug>=1.0.1->tensorboard<2.18,>=2.17->tensorflow) (2.1.5)\r\n",
      "Requirement already satisfied: markdown-it-py>=2.2.0 in /Users/jiangqinma/miniconda3/envs/bitcoin/lib/python3.11/site-packages (from rich->keras>=3.2.0->tensorflow) (3.0.0)\r\n",
      "Requirement already satisfied: pygments<3.0.0,>=2.13.0 in /Users/jiangqinma/miniconda3/envs/bitcoin/lib/python3.11/site-packages (from rich->keras>=3.2.0->tensorflow) (2.18.0)\r\n",
      "Requirement already satisfied: mdurl~=0.1 in /Users/jiangqinma/miniconda3/envs/bitcoin/lib/python3.11/site-packages (from markdown-it-py>=2.2.0->rich->keras>=3.2.0->tensorflow) (0.1.2)\r\n"
     ]
    }
   ],
   "execution_count": 38
  },
  {
   "cell_type": "code",
   "id": "7ce9b78ff34bb335",
   "metadata": {
    "ExecuteTime": {
     "end_time": "2024-09-22T04:46:05.205953Z",
     "start_time": "2024-09-22T04:46:05.194120Z"
    }
   },
   "source": [
    "import numpy as np\n",
    "import pandas as pd\n",
    "from sklearn.model_selection import train_test_split\n",
    "from sklearn.metrics import mean_absolute_error, r2_score, mean_squared_error\n",
    "from sklearn.ensemble import RandomForestRegressor\n",
    "import xgboost as xgb\n",
    "from statsmodels.tsa.arima.model import ARIMA\n",
    "from tensorflow.keras.models import Sequential\n",
    "from tensorflow.keras.layers import LSTM, Dense\n",
    "\n"
   ],
   "outputs": [],
   "execution_count": 39
  },
  {
   "metadata": {},
   "cell_type": "markdown",
   "source": [
    "Multiply each of these columns by 10^8 to convert BTC/vB to sat/vB  (for BTC/vB, Our MAE and RMSE are close to zero, likely due to the small scale of the target variable, block_median_fee_rate.\n",
    " low error values are expected and appropriate for this scale.\n",
    "\n",
    "However, the block median fee rate is typically expressed in satoshis per virtual byte (sat/vB), with typical values around 2-3 sat/vB, as seen in the the website https://mempool.space/.\n",
    "\n",
    "To address this, I’ve updated the Python script (DO_real_time.py) to convert the fee rate from BTC/vB to sat/vB. We should ensure all code reflects this change and handles the new units consistently.)"
   ],
   "id": "a5ad4c9fe5ad7922"
  },
  {
   "cell_type": "code",
   "id": "8ca23d33d0fdf178",
   "metadata": {
    "ExecuteTime": {
     "end_time": "2024-09-23T03:15:44.746070Z",
     "start_time": "2024-09-23T03:15:44.656551Z"
    }
   },
   "source": [
    "df = pd.read_csv('bitcoin_history1_clean.csv')\n",
    "df = df.set_index('block_time')\n",
    "\n",
    "\n",
    "# List of fee rate columns that need to be converted from BTC/vB to sat/vB\n",
    "fee_rate_columns = ['max_fee_rate', 'avg_fee_rate', 'median_fee_rate', 'fee_rate_10th', 'fee_rate_90th', 'fee_rate_std', 'block_median_fee_rate']\n",
    "\n",
    "\n",
    "for col in fee_rate_columns:\n",
    "    df[col] = df[col] * 10**8\n",
    "\n",
    "\n",
    "print(df[fee_rate_columns].head())\n"
   ],
   "outputs": [
    {
     "name": "stdout",
     "output_type": "stream",
     "text": [
      "                     max_fee_rate  avg_fee_rate  median_fee_rate  \\\n",
      "block_time                                                         \n",
      "2023-08-15 13:04:26         200.0      2.546653          2.31746   \n",
      "2023-08-15 13:07:55         200.0      2.547332          2.31746   \n",
      "2023-08-15 13:08:04         200.0      2.547714          2.31746   \n",
      "2023-08-15 13:16:21         200.0      2.548790          2.31746   \n",
      "2023-08-15 13:26:12         200.0      2.550336          2.31746   \n",
      "\n",
      "                     fee_rate_10th  fee_rate_90th  fee_rate_std  \\\n",
      "block_time                                                        \n",
      "2023-08-15 13:04:26       2.206349       2.492063      2.449531   \n",
      "2023-08-15 13:07:55       2.206349       2.492754      2.449685   \n",
      "2023-08-15 13:08:04       2.206349       2.500000      2.449535   \n",
      "2023-08-15 13:16:21       2.206349       2.500000      2.451369   \n",
      "2023-08-15 13:26:12       2.206349       2.500000      2.456636   \n",
      "\n",
      "                     block_median_fee_rate  \n",
      "block_time                                  \n",
      "2023-08-15 13:04:26               8.000000  \n",
      "2023-08-15 13:07:55               6.397059  \n",
      "2023-08-15 13:08:04               6.345588  \n",
      "2023-08-15 13:16:21               6.389706  \n",
      "2023-08-15 13:26:12               7.059715  \n"
     ]
    }
   ],
   "execution_count": 141
  },
  {
   "metadata": {
    "ExecuteTime": {
     "end_time": "2024-09-23T03:15:46.663377Z",
     "start_time": "2024-09-23T03:15:46.609736Z"
    }
   },
   "cell_type": "code",
   "source": [
    "\n",
    "# Define features (X) and target (y)\n",
    "X = df.drop(columns=['block_median_fee_rate'])\n",
    "y = df['block_median_fee_rate']\n",
    "\n",
    "X_train, X_test, y_train, y_test = train_test_split(X, y, test_size=0.2, random_state=42)\n",
    "\n"
   ],
   "id": "5ec94e42a499e0b0",
   "outputs": [],
   "execution_count": 142
  },
  {
   "metadata": {
    "ExecuteTime": {
     "end_time": "2024-09-23T03:17:59.733907Z",
     "start_time": "2024-09-23T03:17:59.656846Z"
    }
   },
   "cell_type": "code",
   "source": "df.isnull().sum()",
   "id": "1d874b97a14d03a0",
   "outputs": [
    {
     "data": {
      "text/plain": [
       "block_height             0\n",
       "tx_count                 0\n",
       "mempool_size_mb          0\n",
       "max_fee_rate             0\n",
       "avg_fee_rate             0\n",
       "median_fee_rate          0\n",
       "fee_rate_10th            0\n",
       "fee_rate_90th            0\n",
       "fee_rate_std             0\n",
       "difficulty               0\n",
       "hash_rate                0\n",
       "total_fee                0\n",
       "mempool_usage            0\n",
       "transaction_count        0\n",
       "block_weight             0\n",
       "block_version            0\n",
       "block_interval           0\n",
       "block_median_fee_rate    0\n",
       "dtype: int64"
      ]
     },
     "execution_count": 143,
     "metadata": {},
     "output_type": "execute_result"
    }
   ],
   "execution_count": 143
  },
  {
   "cell_type": "code",
   "id": "ec233aca8557f1fc",
   "metadata": {
    "ExecuteTime": {
     "end_time": "2024-09-22T18:38:26.028551Z",
     "start_time": "2024-09-22T18:38:06.971182Z"
    }
   },
   "source": [
    "# Store performance metrics for each model\n",
    "results = {}\n",
    "\n",
    "# 1. Random Forest\n",
    "rf_model = RandomForestRegressor(n_estimators=100, random_state=42)\n",
    "rf_model.fit(X_train, y_train)\n",
    "rf_y_pred = rf_model.predict(X_test)\n",
    "results['Random Forest'] = {\n",
    "    'MAE': mean_absolute_error(y_test, rf_y_pred),\n",
    "    'RMSE': np.sqrt(mean_squared_error(y_test, rf_y_pred)),\n",
    "    'R²': r2_score(y_test, rf_y_pred)\n",
    "}\n",
    "\n"
   ],
   "outputs": [],
   "execution_count": 112
  },
  {
   "metadata": {
    "ExecuteTime": {
     "end_time": "2024-09-22T18:38:26.034273Z",
     "start_time": "2024-09-22T18:38:26.030547Z"
    }
   },
   "cell_type": "code",
   "source": "results",
   "id": "bf1c8ba44825450b",
   "outputs": [
    {
     "data": {
      "text/plain": [
       "{'Random Forest': {'MAE': 6.755992554455091,\n",
       "  'RMSE': 13.976045597797938,\n",
       "  'R²': 0.955314983919364}}"
      ]
     },
     "execution_count": 113,
     "metadata": {},
     "output_type": "execute_result"
    }
   ],
   "execution_count": 113
  },
  {
   "metadata": {},
   "cell_type": "markdown",
   "source": "Normalize Features",
   "id": "4b3ae9ecb2561df3"
  },
  {
   "metadata": {
    "ExecuteTime": {
     "end_time": "2024-09-22T18:38:26.048081Z",
     "start_time": "2024-09-22T18:38:26.035260Z"
    }
   },
   "cell_type": "code",
   "source": [
    "from sklearn.preprocessing import MinMaxScaler\n",
    "\n",
    "scaler = MinMaxScaler()\n",
    "X_train_scaled = scaler.fit_transform(X_train)\n",
    "X_test_scaled = scaler.transform(X_test)\n"
   ],
   "id": "303710856f63d2f8",
   "outputs": [],
   "execution_count": 114
  },
  {
   "metadata": {
    "ExecuteTime": {
     "end_time": "2024-09-22T18:38:46.574539Z",
     "start_time": "2024-09-22T18:38:26.049509Z"
    }
   },
   "cell_type": "code",
   "source": [
    "# Fit Random Forest with scaled features\n",
    "rf_model = RandomForestRegressor(n_estimators=100, random_state=42)\n",
    "rf_model.fit(X_train_scaled, y_train)\n",
    "\n",
    "# Predict and evaluate\n",
    "rf_y_pred = rf_model.predict(X_test_scaled)\n",
    "results['Random Forest (Normalize Features)'] = {\n",
    "    'MAE': mean_absolute_error(y_test, rf_y_pred),\n",
    "    'RMSE': np.sqrt(mean_squared_error(y_test, rf_y_pred)),\n",
    "    'R²': r2_score(y_test, rf_y_pred)\n",
    "}\n"
   ],
   "id": "245915fabe30a6b3",
   "outputs": [],
   "execution_count": 115
  },
  {
   "metadata": {
    "ExecuteTime": {
     "end_time": "2024-09-22T18:38:46.590184Z",
     "start_time": "2024-09-22T18:38:46.582101Z"
    }
   },
   "cell_type": "code",
   "source": "results",
   "id": "ec8519b986c07d23",
   "outputs": [
    {
     "data": {
      "text/plain": [
       "{'Random Forest': {'MAE': 6.755992554455091,\n",
       "  'RMSE': 13.976045597797938,\n",
       "  'R²': 0.955314983919364},\n",
       " 'Random Forest (Normalize Features)': {'MAE': 6.757978417242709,\n",
       "  'RMSE': 13.977807581468374,\n",
       "  'R²': 0.9553037161782597}}"
      ]
     },
     "execution_count": 116,
     "metadata": {},
     "output_type": "execute_result"
    }
   ],
   "execution_count": 116
  },
  {
   "metadata": {
    "ExecuteTime": {
     "end_time": "2024-09-22T18:38:46.622096Z",
     "start_time": "2024-09-22T18:38:46.591512Z"
    }
   },
   "cell_type": "code",
   "source": [
    "feature_importances = rf_model.feature_importances_\n",
    "feature_names = X_train.columns\n",
    "\n",
    "# Sort feature importance values\n",
    "sorted_idx = np.argsort(feature_importances)[::-1]\n",
    "\n",
    "for idx in sorted_idx:\n",
    "    print(f\"{feature_names[idx]}: {feature_importances[idx]}\")\n"
   ],
   "id": "1b3b882c64094378",
   "outputs": [
    {
     "name": "stdout",
     "output_type": "stream",
     "text": [
      "hash_rate: 0.42599317369576944\n",
      "block_height: 0.2107037097402561\n",
      "fee_rate_90th: 0.15170122700978725\n",
      "block_interval: 0.045959488363430036\n",
      "tx_count: 0.029306655739644125\n",
      "fee_rate_10th: 0.024811832195348375\n",
      "fee_rate_std: 0.02263195733161012\n",
      "transaction_count: 0.01736424369478485\n",
      "avg_fee_rate: 0.013302675949254217\n",
      "mempool_size_mb: 0.0108250943066205\n",
      "total_fee: 0.010226004737173397\n",
      "mempool_usage: 0.00847592559289571\n",
      "max_fee_rate: 0.008399314604768419\n",
      "median_fee_rate: 0.007401598992715999\n",
      "block_weight: 0.0055012651639994884\n",
      "block_version: 0.004497917223795293\n",
      "difficulty: 0.0028979156581467737\n"
     ]
    }
   ],
   "execution_count": 117
  },
  {
   "metadata": {},
   "cell_type": "markdown",
   "source": [
    "Key Observations:\n",
    "\n",
    "Most Important Features:\n",
    "\n",
    "block_height: This is the most important feature with a significant weight of 0.511.\n",
    "hash_rate: This is the second most important feature, contributing around 0.240 to the model.\n",
    "difficulty and block_interval: These also have moderate importance, suggesting that they contribute to the predictive power of the model.\n",
    "\n",
    "Less Important Features:\n",
    "\n",
    "Features like fee_rate_std, fee_rate_90th, fee_rate_10th, median_fee_rate, and avg_fee_rate have extremely low or even zero importance. This indicates that the model does not find these features useful for prediction.\n",
    "\n",
    "Mempool Features:\n",
    "\n",
    "mempool_size_mb and mempool_usage have some importance but are not very strong contributors compared to features like block_height and hash_rate.\n",
    "\n",
    "Suggested Action:\n",
    "\n",
    "Based on these observations:\n",
    "\n",
    "1. Remove Features with Very Low Importance:\n",
    " remove features like fee_rate_90th, fee_rate_10th, median_fee_rate, and avg_fee_rate, as their importance values are 0.0.\n",
    "\n",
    "Consider removing mempool_min_fee and fee_rate_std as they contribute very little to the model's performance.\n",
    "\n",
    "2. Retain Key Features:\n",
    "\n",
    "Keep the highly important features (block_height, hash_rate, difficulty, block_interval) and other moderately important ones like tx_count and mempool_size_mb.\n",
    "\n",
    "3. Rebuild the Model:\n",
    "\n",
    "Retrain the Random Forest model without the low-importance features and observe if the performance metrics (MAE, RMSE, R²) improve or stay the same."
   ],
   "id": "6ecab36a7eddbb41"
  },
  {
   "metadata": {
    "ExecuteTime": {
     "end_time": "2024-09-22T18:38:57.310162Z",
     "start_time": "2024-09-22T18:38:46.622769Z"
    }
   },
   "cell_type": "code",
   "source": [
    "# Define a subset of important features based on the feature importance results\n",
    "important_features = ['block_height', 'hash_rate', 'difficulty', 'block_interval',\n",
    "                      'tx_count', 'transaction_count', 'mempool_size_mb', 'total_fee', 'max_fee_rate']\n",
    "\n",
    "# # Get the indices of important features from the original DataFrame\n",
    "# important_feature_indices = [X_train.columns.get_loc(col) for col in important_features]\n",
    "# \n",
    "# # Use the indices to select important features from the scaled arrays\n",
    "# X_train_imp = X_train_scaled[:, important_feature_indices]\n",
    "# X_test_imp = X_test_scaled[:, important_feature_indices]\n",
    "\n",
    "\n",
    "X_train_imp = X_train[important_features]\n",
    "X_test_imp = X_test[important_features]\n",
    "\n",
    "# Train the model with only important features\n",
    "rf_model = RandomForestRegressor(n_estimators=100, random_state=42)\n",
    "rf_model.fit(X_train_imp, y_train)\n",
    "rf_y_pred = rf_model.predict(X_test_imp)\n",
    "\n",
    "# Store the performance results for the Random Forest model\n",
    "results['Random Forest (Important Features)'] = {\n",
    "    'MAE': mean_absolute_error(y_test, rf_y_pred),\n",
    "    'RMSE': np.sqrt(mean_squared_error(y_test, rf_y_pred)),\n",
    "    'R²': r2_score(y_test, rf_y_pred)\n",
    "}\n"
   ],
   "id": "51884dd9265083b6",
   "outputs": [],
   "execution_count": 118
  },
  {
   "metadata": {
    "ExecuteTime": {
     "end_time": "2024-09-22T18:38:57.315708Z",
     "start_time": "2024-09-22T18:38:57.312508Z"
    }
   },
   "cell_type": "code",
   "source": "results",
   "id": "55349886e908e092",
   "outputs": [
    {
     "data": {
      "text/plain": [
       "{'Random Forest': {'MAE': 6.755992554455091,\n",
       "  'RMSE': 13.976045597797938,\n",
       "  'R²': 0.955314983919364},\n",
       " 'Random Forest (Normalize Features)': {'MAE': 6.757978417242709,\n",
       "  'RMSE': 13.977807581468374,\n",
       "  'R²': 0.9553037161782597},\n",
       " 'Random Forest (Important Features)': {'MAE': 6.64908811049062,\n",
       "  'RMSE': 13.69954116933218,\n",
       "  'R²': 0.9570656053048433}}"
      ]
     },
     "execution_count": 119,
     "metadata": {},
     "output_type": "execute_result"
    }
   ],
   "execution_count": 119
  },
  {
   "metadata": {
    "ExecuteTime": {
     "end_time": "2024-09-22T18:41:24.362564Z",
     "start_time": "2024-09-22T18:38:57.316484Z"
    }
   },
   "cell_type": "code",
   "source": [
    "from sklearn.model_selection import RandomizedSearchCV\n",
    "from sklearn.ensemble import RandomForestRegressor\n",
    "\n",
    "\n",
    "# Define the parameter grid for tuning\n",
    "param_grid = {\n",
    "    'n_estimators': [50, 100, 200, 500],\n",
    "    'max_depth': [None, 10, 20, 30, 50],\n",
    "    'min_samples_split': [2, 5, 10],\n",
    "    'min_samples_leaf': [1, 2, 4],\n",
    "    'max_features': ['sqrt', 'log2']  # Removed 'auto'\n",
    "}\n",
    "\n",
    "# Initialize RandomForestRegressor\n",
    "rf = RandomForestRegressor(random_state=42)\n",
    "\n",
    "# Initialize RandomizedSearchCV with error_score='raise' to catch any errors during search\n",
    "rf_random = RandomizedSearchCV(estimator=rf, param_distributions=param_grid,\n",
    "                               n_iter=50, cv=3, verbose=2, random_state=42, n_jobs=-1, error_score='raise')\n",
    "\n",
    "# Fit the random search model\n",
    "rf_random.fit(X_train_imp, y_train)\n",
    "\n",
    "# Get the best parameters\n",
    "best_params = rf_random.best_params_\n",
    "print(\"Best parameters found: \", best_params)\n",
    "\n",
    "# Evaluate the best model on the test set\n",
    "best_rf_model = rf_random.best_estimator_\n",
    "rf_y_pred_best = best_rf_model.predict(X_test_imp)\n",
    "\n",
    "# Store the performance results\n",
    "results = {}\n",
    "results['Random Forest (Tuned)'] = {\n",
    "    'MAE': mean_absolute_error(y_test, rf_y_pred_best),\n",
    "    'RMSE': np.sqrt(mean_squared_error(y_test, rf_y_pred_best)),\n",
    "    'R²': r2_score(y_test, rf_y_pred_best)\n",
    "}\n",
    "\n",
    "\n"
   ],
   "id": "9c2c867bf49b1575",
   "outputs": [
    {
     "name": "stdout",
     "output_type": "stream",
     "text": [
      "Fitting 3 folds for each of 50 candidates, totalling 150 fits\n",
      "[CV] END max_depth=30, max_features=log2, min_samples_leaf=4, min_samples_split=10, n_estimators=100; total time=   2.9s\n",
      "[CV] END max_depth=None, max_features=log2, min_samples_leaf=2, min_samples_split=10, n_estimators=50; total time=   1.5s\n",
      "[CV] END max_depth=None, max_features=log2, min_samples_leaf=2, min_samples_split=10, n_estimators=50; total time=   1.5s\n",
      "[CV] END max_depth=30, max_features=log2, min_samples_leaf=2, min_samples_split=10, n_estimators=50; total time=   1.5s\n",
      "[CV] END max_depth=None, max_features=sqrt, min_samples_leaf=2, min_samples_split=2, n_estimators=500; total time=  16.5s\n",
      "[CV] END max_depth=10, max_features=log2, min_samples_leaf=1, min_samples_split=10, n_estimators=500; total time=  12.0s\n",
      "[CV] END max_depth=50, max_features=sqrt, min_samples_leaf=2, min_samples_split=2, n_estimators=50; total time=   1.8s\n",
      "[CV] END max_depth=10, max_features=log2, min_samples_leaf=4, min_samples_split=5, n_estimators=500; total time=  12.3s\n",
      "[CV] END max_depth=None, max_features=sqrt, min_samples_leaf=4, min_samples_split=10, n_estimators=100; total time=   3.1s\n",
      "[CV] END max_depth=20, max_features=sqrt, min_samples_leaf=1, min_samples_split=2, n_estimators=500; total time=  20.3s\n"
     ]
    },
    {
     "name": "stderr",
     "output_type": "stream",
     "text": [
      "/Users/jiangqinma/miniconda3/envs/bitcoin/lib/python3.11/site-packages/joblib/externals/loky/process_executor.py:752: UserWarning: A worker stopped while some jobs were given to the executor. This can be caused by a too short worker timeout or by a memory leak.\n",
      "  warnings.warn(\n"
     ]
    },
    {
     "name": "stdout",
     "output_type": "stream",
     "text": [
      "[CV] END max_depth=30, max_features=sqrt, min_samples_leaf=1, min_samples_split=10, n_estimators=50; total time=   1.5s\n",
      "[CV] END max_depth=30, max_features=log2, min_samples_leaf=4, min_samples_split=10, n_estimators=100; total time=   2.9s\n",
      "[CV] END max_depth=None, max_features=log2, min_samples_leaf=2, min_samples_split=10, n_estimators=50; total time=   1.5s\n",
      "[CV] END max_depth=30, max_features=log2, min_samples_leaf=2, min_samples_split=10, n_estimators=50; total time=   1.6s\n",
      "[CV] END max_depth=None, max_features=log2, min_samples_leaf=2, min_samples_split=10, n_estimators=100; total time=   3.0s\n",
      "[CV] END max_depth=10, max_features=log2, min_samples_leaf=2, min_samples_split=5, n_estimators=50; total time=   1.1s\n",
      "[CV] END max_depth=10, max_features=sqrt, min_samples_leaf=1, min_samples_split=10, n_estimators=200; total time=   4.6s\n",
      "[CV] END max_depth=20, max_features=log2, min_samples_leaf=4, min_samples_split=5, n_estimators=200; total time=   5.7s\n",
      "[CV] END max_depth=10, max_features=log2, min_samples_leaf=1, min_samples_split=10, n_estimators=500; total time=  11.8s\n",
      "[CV] END max_depth=20, max_features=log2, min_samples_leaf=2, min_samples_split=10, n_estimators=500; total time=  15.9s\n",
      "[CV] END max_depth=50, max_features=log2, min_samples_leaf=1, min_samples_split=2, n_estimators=50; total time=   2.0s\n",
      "[CV] END max_depth=30, max_features=sqrt, min_samples_leaf=1, min_samples_split=5, n_estimators=50; total time=   1.7s\n",
      "[CV] END max_depth=20, max_features=sqrt, min_samples_leaf=1, min_samples_split=2, n_estimators=500; total time=  20.2s\n",
      "[CV] END max_depth=30, max_features=sqrt, min_samples_leaf=1, min_samples_split=10, n_estimators=50; total time=   1.8s\n",
      "[CV] END max_depth=50, max_features=sqrt, min_samples_leaf=2, min_samples_split=2, n_estimators=200; total time=   6.7s\n",
      "[CV] END max_depth=30, max_features=sqrt, min_samples_leaf=4, min_samples_split=10, n_estimators=50; total time=   1.4s\n",
      "[CV] END max_depth=30, max_features=sqrt, min_samples_leaf=4, min_samples_split=10, n_estimators=50; total time=   1.4s\n",
      "[CV] END max_depth=10, max_features=sqrt, min_samples_leaf=1, min_samples_split=10, n_estimators=200; total time=   4.5s\n",
      "[CV] END max_depth=50, max_features=log2, min_samples_leaf=4, min_samples_split=5, n_estimators=200; total time=   5.9s\n",
      "[CV] END max_depth=50, max_features=log2, min_samples_leaf=2, min_samples_split=2, n_estimators=500; total time=  17.4s\n",
      "[CV] END max_depth=50, max_features=log2, min_samples_leaf=4, min_samples_split=10, n_estimators=50; total time=   1.5s\n",
      "[CV] END max_depth=10, max_features=log2, min_samples_leaf=4, min_samples_split=10, n_estimators=50; total time=   1.2s\n",
      "[CV] END max_depth=10, max_features=log2, min_samples_leaf=4, min_samples_split=10, n_estimators=50; total time=   1.2s\n",
      "[CV] END max_depth=30, max_features=sqrt, min_samples_leaf=1, min_samples_split=5, n_estimators=200; total time=   7.2s\n",
      "[CV] END max_depth=50, max_features=sqrt, min_samples_leaf=1, min_samples_split=10, n_estimators=100; total time=   3.3s\n",
      "[CV] END max_depth=50, max_features=log2, min_samples_leaf=1, min_samples_split=2, n_estimators=100; total time=   4.1s\n",
      "[CV] END max_depth=10, max_features=sqrt, min_samples_leaf=1, min_samples_split=2, n_estimators=100; total time=   2.6s\n",
      "[CV] END max_depth=30, max_features=log2, min_samples_leaf=2, min_samples_split=2, n_estimators=500; total time=  18.4s\n",
      "[CV] END max_depth=None, max_features=log2, min_samples_leaf=1, min_samples_split=2, n_estimators=500; total time=  21.6s\n",
      "[CV] END max_depth=20, max_features=sqrt, min_samples_leaf=1, min_samples_split=5, n_estimators=50; total time=   1.9s\n",
      "[CV] END max_depth=10, max_features=log2, min_samples_leaf=1, min_samples_split=5, n_estimators=100; total time=   2.6s\n",
      "[CV] END max_depth=None, max_features=log2, min_samples_leaf=1, min_samples_split=2, n_estimators=500; total time=  21.4s\n",
      "[CV] END max_depth=None, max_features=log2, min_samples_leaf=1, min_samples_split=5, n_estimators=200; total time=   7.1s\n",
      "[CV] END max_depth=None, max_features=sqrt, min_samples_leaf=2, min_samples_split=2, n_estimators=500; total time=  16.6s\n",
      "[CV] END max_depth=10, max_features=log2, min_samples_leaf=1, min_samples_split=10, n_estimators=500; total time=  12.0s\n",
      "[CV] END max_depth=50, max_features=sqrt, min_samples_leaf=2, min_samples_split=2, n_estimators=50; total time=   1.7s\n",
      "[CV] END max_depth=10, max_features=log2, min_samples_leaf=4, min_samples_split=5, n_estimators=500; total time=  12.3s\n",
      "[CV] END max_depth=None, max_features=sqrt, min_samples_leaf=4, min_samples_split=10, n_estimators=100; total time=   3.2s\n",
      "[CV] END max_depth=30, max_features=sqrt, min_samples_leaf=1, min_samples_split=5, n_estimators=50; total time=   1.8s\n",
      "[CV] END max_depth=None, max_features=sqrt, min_samples_leaf=4, min_samples_split=2, n_estimators=100; total time=   3.4s\n",
      "[CV] END max_depth=10, max_features=sqrt, min_samples_leaf=1, min_samples_split=2, n_estimators=100; total time=   2.6s\n",
      "[CV] END max_depth=30, max_features=log2, min_samples_leaf=2, min_samples_split=2, n_estimators=500; total time=  18.5s\n",
      "[CV] END max_depth=None, max_features=log2, min_samples_leaf=1, min_samples_split=2, n_estimators=500; total time=  21.9s\n",
      "Best parameters found:  {'n_estimators': 500, 'min_samples_split': 2, 'min_samples_leaf': 1, 'max_features': 'sqrt', 'max_depth': 20}\n"
     ]
    }
   ],
   "execution_count": 120
  },
  {
   "metadata": {
    "ExecuteTime": {
     "end_time": "2024-09-22T18:41:24.370970Z",
     "start_time": "2024-09-22T18:41:24.367473Z"
    }
   },
   "cell_type": "code",
   "source": "results",
   "id": "32ea3a3a3ab5695a",
   "outputs": [
    {
     "data": {
      "text/plain": [
       "{'Random Forest (Tuned)': {'MAE': 6.292347635890187,\n",
       "  'RMSE': 12.50958145205259,\n",
       "  'R²': 0.9642003435286666}}"
      ]
     },
     "execution_count": 121,
     "metadata": {},
     "output_type": "execute_result"
    }
   ],
   "execution_count": 121
  },
  {
   "metadata": {
    "ExecuteTime": {
     "end_time": "2024-09-22T18:41:24.397227Z",
     "start_time": "2024-09-22T18:41:24.372088Z"
    }
   },
   "cell_type": "code",
   "source": [
    "print(\"Scale of target variable (y_test):\")\n",
    "print(y_test.describe())\n"
   ],
   "id": "3002514461419183",
   "outputs": [
    {
     "name": "stdout",
     "output_type": "stream",
     "text": [
      "Scale of target variable (y_test):\n",
      "count    5340.000000\n",
      "mean       56.612392\n",
      "std        66.121701\n",
      "min         2.880136\n",
      "25%        16.000000\n",
      "50%        31.960500\n",
      "75%        67.066104\n",
      "max       348.000000\n",
      "Name: block_median_fee_rate, dtype: float64\n"
     ]
    }
   ],
   "execution_count": 122
  },
  {
   "metadata": {
    "ExecuteTime": {
     "end_time": "2024-09-22T18:41:24.402590Z",
     "start_time": "2024-09-22T18:41:24.398482Z"
    }
   },
   "cell_type": "code",
   "source": "y_test",
   "id": "8651220991c5c5aa",
   "outputs": [
    {
     "data": {
      "text/plain": [
       "block_time\n",
       "2023-10-21 13:38:02    16.000000\n",
       "2023-09-08 02:29:49    15.000000\n",
       "2023-09-02 20:07:32    22.056738\n",
       "2023-10-16 11:51:40    15.068809\n",
       "2023-09-18 17:05:38    51.631206\n",
       "                         ...    \n",
       "2023-11-06 09:24:06    50.042553\n",
       "2024-01-29 19:36:05    43.000000\n",
       "2023-10-04 02:31:44     4.028303\n",
       "2023-12-09 15:51:07    57.000000\n",
       "2023-09-08 10:00:01    15.926471\n",
       "Name: block_median_fee_rate, Length: 5340, dtype: float64"
      ]
     },
     "execution_count": 123,
     "metadata": {},
     "output_type": "execute_result"
    }
   ],
   "execution_count": 123
  },
  {
   "metadata": {
    "ExecuteTime": {
     "end_time": "2024-09-22T18:41:24.588189Z",
     "start_time": "2024-09-22T18:41:24.403287Z"
    }
   },
   "cell_type": "code",
   "source": [
    "# 2. # Use the important features for training the XGBoost\n",
    "xgb_model = xgb.XGBRegressor(n_estimators=100, random_state=42)\n",
    "xgb_model.fit(X_train_imp, y_train)\n",
    "xgb_y_pred = xgb_model.predict(X_test_imp)\n",
    "results['XGBoost (Important Features)'] = {\n",
    "    'MAE': mean_absolute_error(y_test, xgb_y_pred),\n",
    "    'RMSE': np.sqrt(mean_squared_error(y_test, xgb_y_pred)),\n",
    "    'R²': r2_score(y_test, xgb_y_pred)\n",
    "}\n",
    "\n"
   ],
   "id": "c068d1a96bcbf41c",
   "outputs": [],
   "execution_count": 124
  },
  {
   "metadata": {
    "ExecuteTime": {
     "end_time": "2024-09-22T18:41:24.590894Z",
     "start_time": "2024-09-22T18:41:24.588740Z"
    }
   },
   "cell_type": "code",
   "source": "results",
   "id": "2ba158b24821d9da",
   "outputs": [
    {
     "data": {
      "text/plain": [
       "{'Random Forest (Tuned)': {'MAE': 6.292347635890187,\n",
       "  'RMSE': 12.50958145205259,\n",
       "  'R²': 0.9642003435286666},\n",
       " 'XGBoost (Important Features)': {'MAE': 8.157239716745382,\n",
       "  'RMSE': 15.012403004893006,\n",
       "  'R²': 0.9484422769075563}}"
      ]
     },
     "execution_count": 125,
     "metadata": {},
     "output_type": "execute_result"
    }
   ],
   "execution_count": 125
  },
  {
   "metadata": {
    "ExecuteTime": {
     "end_time": "2024-09-22T18:41:24.818892Z",
     "start_time": "2024-09-22T18:41:24.591557Z"
    }
   },
   "cell_type": "code",
   "source": [
    "# use all the features  for XGBoost\n",
    "xgb_model = xgb.XGBRegressor(n_estimators=100, random_state=42)\n",
    "xgb_model.fit(X_train, y_train)\n",
    "xgb_y_pred = xgb_model.predict(X_test)\n",
    "results['XGBoost'] = {\n",
    "    'MAE': mean_absolute_error(y_test, xgb_y_pred),\n",
    "    'RMSE': np.sqrt(mean_squared_error(y_test, xgb_y_pred)),\n",
    "    'R²': r2_score(y_test, xgb_y_pred)\n",
    "}"
   ],
   "id": "8284e4e23f6b7050",
   "outputs": [],
   "execution_count": 126
  },
  {
   "metadata": {
    "ExecuteTime": {
     "end_time": "2024-09-22T18:41:25.000694Z",
     "start_time": "2024-09-22T18:41:24.819590Z"
    }
   },
   "cell_type": "code",
   "source": [
    "# Fit XGBoost with scaled features\n",
    "xgb_model = xgb.XGBRegressor(n_estimators=100, random_state=42)\n",
    "xgb_model.fit(X_train_scaled, y_train)\n",
    "\n",
    "# Predict and evaluate\n",
    "xgb_y_pred = xgb_model.predict(X_test_scaled)\n",
    "results['XGBoost (Scaled features)'] = {\n",
    "    'MAE': mean_absolute_error(y_test, xgb_y_pred),\n",
    "    'RMSE': np.sqrt(mean_squared_error(y_test, xgb_y_pred)),\n",
    "    'R²': r2_score(y_test, xgb_y_pred)\n",
    "}\n"
   ],
   "id": "7dbc2f67d189e739",
   "outputs": [],
   "execution_count": 127
  },
  {
   "metadata": {
    "ExecuteTime": {
     "end_time": "2024-09-22T18:41:25.003651Z",
     "start_time": "2024-09-22T18:41:25.001539Z"
    }
   },
   "cell_type": "code",
   "source": "results",
   "id": "469c09c97b141f67",
   "outputs": [
    {
     "data": {
      "text/plain": [
       "{'Random Forest (Tuned)': {'MAE': 6.292347635890187,\n",
       "  'RMSE': 12.50958145205259,\n",
       "  'R²': 0.9642003435286666},\n",
       " 'XGBoost (Important Features)': {'MAE': 8.157239716745382,\n",
       "  'RMSE': 15.012403004893006,\n",
       "  'R²': 0.9484422769075563},\n",
       " 'XGBoost': {'MAE': 8.42647087287646,\n",
       "  'RMSE': 15.469208442586403,\n",
       "  'R²': 0.9452568878154366},\n",
       " 'XGBoost (Scaled features)': {'MAE': 8.086808847095037,\n",
       "  'RMSE': 14.688989870059165,\n",
       "  'R²': 0.9506397712782884}}"
      ]
     },
     "execution_count": 128,
     "metadata": {},
     "output_type": "execute_result"
    }
   ],
   "execution_count": 128
  },
  {
   "metadata": {},
   "cell_type": "markdown",
   "source": " Since use impotant features not improve the performance, So we try improve the performance of XGBoost model through feature engineering and fine-tuning:",
   "id": "9eac48ceee9e327"
  },
  {
   "metadata": {
    "ExecuteTime": {
     "end_time": "2024-09-22T18:41:25.024660Z",
     "start_time": "2024-09-22T18:41:25.004280Z"
    }
   },
   "cell_type": "code",
   "source": "df",
   "id": "6e01cb29dadeb98e",
   "outputs": [
    {
     "data": {
      "text/plain": [
       "                     block_height  tx_count  mempool_size_mb  max_fee_rate  \\\n",
       "block_time                                                                   \n",
       "2023-08-15 13:04:26        803299   29424.0         6.205224    200.000000   \n",
       "2023-08-15 13:07:55        803300   29433.0         6.205224    200.000000   \n",
       "2023-08-15 13:08:04        803301   29441.0         6.205224    200.000000   \n",
       "2023-08-15 13:16:21        803302   29452.0         6.205224    200.000000   \n",
       "2023-08-15 13:26:12        803303   29460.0         6.205224    200.000000   \n",
       "...                           ...       ...              ...           ...   \n",
       "2024-02-11 16:54:13        829994  114970.0        40.197975     77.659574   \n",
       "2024-02-11 17:14:00        829995  115225.0        40.232427     77.659574   \n",
       "2024-02-11 17:24:07        829996  115399.0        40.257759     77.659574   \n",
       "2024-02-11 17:36:01        829997  115652.0        40.294566     77.659574   \n",
       "2024-02-11 17:53:26        829998  115990.0        40.350023     77.659574   \n",
       "\n",
       "                     avg_fee_rate  median_fee_rate  fee_rate_10th  \\\n",
       "block_time                                                          \n",
       "2023-08-15 13:04:26      2.546653         2.317460       2.206349   \n",
       "2023-08-15 13:07:55      2.547332         2.317460       2.206349   \n",
       "2023-08-15 13:08:04      2.547714         2.317460       2.206349   \n",
       "2023-08-15 13:16:21      2.548790         2.317460       2.206349   \n",
       "2023-08-15 13:26:12      2.550336         2.317460       2.206349   \n",
       "...                           ...              ...            ...   \n",
       "2024-02-11 16:54:13      2.166685         2.301587       1.098837   \n",
       "2024-02-11 17:14:00      2.167829         2.301587       1.098837   \n",
       "2024-02-11 17:24:07      2.169418         2.301587       1.098837   \n",
       "2024-02-11 17:36:01      2.170365         2.301587       1.098837   \n",
       "2024-02-11 17:53:26      2.172347         2.301587       1.098837   \n",
       "\n",
       "                     fee_rate_90th  fee_rate_std    difficulty     hash_rate  \\\n",
       "block_time                                                                     \n",
       "2023-08-15 13:04:26       2.492063      2.449531  5.239118e+13  6.574572e+20   \n",
       "2023-08-15 13:07:55       2.492754      2.449685  5.239118e+13  6.574572e+20   \n",
       "2023-08-15 13:08:04       2.500000      2.449535  5.239118e+13  6.574572e+20   \n",
       "2023-08-15 13:16:21       2.500000      2.451369  5.239118e+13  6.574572e+20   \n",
       "2023-08-15 13:26:12       2.500000      2.456636  5.239118e+13  6.574572e+20   \n",
       "...                            ...           ...           ...           ...   \n",
       "2024-02-11 16:54:13       2.507937      0.838035  7.550217e+13  6.198125e+20   \n",
       "2024-02-11 17:14:00       2.507937      0.843237  7.550217e+13  6.198125e+20   \n",
       "2024-02-11 17:24:07       2.507937      0.855287  7.550217e+13  6.198125e+20   \n",
       "2024-02-11 17:36:01       2.507937      0.856538  7.550217e+13  6.198125e+20   \n",
       "2024-02-11 17:53:26       2.507937      0.870965  7.550217e+13  6.198125e+20   \n",
       "\n",
       "                     total_fee  mempool_usage  transaction_count  \\\n",
       "block_time                                                         \n",
       "2023-08-15 13:04:26   0.155298     47014961.6            3401.00   \n",
       "2023-08-15 13:07:55   0.155378     47014961.6            5048.00   \n",
       "2023-08-15 13:08:04   0.155421     47014961.6            6228.03   \n",
       "2023-08-15 13:16:21   0.155512     47014961.6            4308.00   \n",
       "2023-08-15 13:26:12   0.155637     47014961.6            3335.00   \n",
       "...                        ...            ...                ...   \n",
       "2024-02-11 16:54:13   0.747854    263447344.0            2171.00   \n",
       "2024-02-11 17:14:00   0.748885    263766816.0            3031.00   \n",
       "2024-02-11 17:24:07   0.749860    263989824.0            2676.00   \n",
       "2024-02-11 17:36:01   0.750889    264319392.0            2256.00   \n",
       "2024-02-11 17:53:26   0.752826    264793376.0            2824.00   \n",
       "\n",
       "                     block_weight  block_version  block_interval  \\\n",
       "block_time                                                         \n",
       "2023-08-15 13:04:26     3993402.0      793116672           405.0   \n",
       "2023-08-15 13:07:55     3993409.0      557588480           209.0   \n",
       "2023-08-15 13:08:04     3997929.0      536870912             9.0   \n",
       "2023-08-15 13:16:21     3993126.0      783720448           497.0   \n",
       "2023-08-15 13:26:12     3993490.0      830971904           591.0   \n",
       "...                           ...            ...             ...   \n",
       "2024-02-11 16:54:13     3993477.0      849379328           570.0   \n",
       "2024-02-11 17:14:00     3993059.0      797360128          1187.0   \n",
       "2024-02-11 17:24:07     3993783.0      574103552           607.0   \n",
       "2024-02-11 17:36:01     3992981.0      547356676           714.0   \n",
       "2024-02-11 17:53:26     3993442.0      838860800          1045.0   \n",
       "\n",
       "                     block_median_fee_rate  \n",
       "block_time                                  \n",
       "2023-08-15 13:04:26               8.000000  \n",
       "2023-08-15 13:07:55               6.397059  \n",
       "2023-08-15 13:08:04               6.345588  \n",
       "2023-08-15 13:16:21               6.389706  \n",
       "2023-08-15 13:26:12               7.059715  \n",
       "...                                    ...  \n",
       "2024-02-11 16:54:13              20.000000  \n",
       "2024-02-11 17:14:00              25.199050  \n",
       "2024-02-11 17:24:07              17.000000  \n",
       "2024-02-11 17:36:01              21.248718  \n",
       "2024-02-11 17:53:26              24.851064  \n",
       "\n",
       "[26700 rows x 18 columns]"
      ],
      "text/html": [
       "<div>\n",
       "<style scoped>\n",
       "    .dataframe tbody tr th:only-of-type {\n",
       "        vertical-align: middle;\n",
       "    }\n",
       "\n",
       "    .dataframe tbody tr th {\n",
       "        vertical-align: top;\n",
       "    }\n",
       "\n",
       "    .dataframe thead th {\n",
       "        text-align: right;\n",
       "    }\n",
       "</style>\n",
       "<table border=\"1\" class=\"dataframe\">\n",
       "  <thead>\n",
       "    <tr style=\"text-align: right;\">\n",
       "      <th></th>\n",
       "      <th>block_height</th>\n",
       "      <th>tx_count</th>\n",
       "      <th>mempool_size_mb</th>\n",
       "      <th>max_fee_rate</th>\n",
       "      <th>avg_fee_rate</th>\n",
       "      <th>median_fee_rate</th>\n",
       "      <th>fee_rate_10th</th>\n",
       "      <th>fee_rate_90th</th>\n",
       "      <th>fee_rate_std</th>\n",
       "      <th>difficulty</th>\n",
       "      <th>hash_rate</th>\n",
       "      <th>total_fee</th>\n",
       "      <th>mempool_usage</th>\n",
       "      <th>transaction_count</th>\n",
       "      <th>block_weight</th>\n",
       "      <th>block_version</th>\n",
       "      <th>block_interval</th>\n",
       "      <th>block_median_fee_rate</th>\n",
       "    </tr>\n",
       "    <tr>\n",
       "      <th>block_time</th>\n",
       "      <th></th>\n",
       "      <th></th>\n",
       "      <th></th>\n",
       "      <th></th>\n",
       "      <th></th>\n",
       "      <th></th>\n",
       "      <th></th>\n",
       "      <th></th>\n",
       "      <th></th>\n",
       "      <th></th>\n",
       "      <th></th>\n",
       "      <th></th>\n",
       "      <th></th>\n",
       "      <th></th>\n",
       "      <th></th>\n",
       "      <th></th>\n",
       "      <th></th>\n",
       "      <th></th>\n",
       "    </tr>\n",
       "  </thead>\n",
       "  <tbody>\n",
       "    <tr>\n",
       "      <th>2023-08-15 13:04:26</th>\n",
       "      <td>803299</td>\n",
       "      <td>29424.0</td>\n",
       "      <td>6.205224</td>\n",
       "      <td>200.000000</td>\n",
       "      <td>2.546653</td>\n",
       "      <td>2.317460</td>\n",
       "      <td>2.206349</td>\n",
       "      <td>2.492063</td>\n",
       "      <td>2.449531</td>\n",
       "      <td>5.239118e+13</td>\n",
       "      <td>6.574572e+20</td>\n",
       "      <td>0.155298</td>\n",
       "      <td>47014961.6</td>\n",
       "      <td>3401.00</td>\n",
       "      <td>3993402.0</td>\n",
       "      <td>793116672</td>\n",
       "      <td>405.0</td>\n",
       "      <td>8.000000</td>\n",
       "    </tr>\n",
       "    <tr>\n",
       "      <th>2023-08-15 13:07:55</th>\n",
       "      <td>803300</td>\n",
       "      <td>29433.0</td>\n",
       "      <td>6.205224</td>\n",
       "      <td>200.000000</td>\n",
       "      <td>2.547332</td>\n",
       "      <td>2.317460</td>\n",
       "      <td>2.206349</td>\n",
       "      <td>2.492754</td>\n",
       "      <td>2.449685</td>\n",
       "      <td>5.239118e+13</td>\n",
       "      <td>6.574572e+20</td>\n",
       "      <td>0.155378</td>\n",
       "      <td>47014961.6</td>\n",
       "      <td>5048.00</td>\n",
       "      <td>3993409.0</td>\n",
       "      <td>557588480</td>\n",
       "      <td>209.0</td>\n",
       "      <td>6.397059</td>\n",
       "    </tr>\n",
       "    <tr>\n",
       "      <th>2023-08-15 13:08:04</th>\n",
       "      <td>803301</td>\n",
       "      <td>29441.0</td>\n",
       "      <td>6.205224</td>\n",
       "      <td>200.000000</td>\n",
       "      <td>2.547714</td>\n",
       "      <td>2.317460</td>\n",
       "      <td>2.206349</td>\n",
       "      <td>2.500000</td>\n",
       "      <td>2.449535</td>\n",
       "      <td>5.239118e+13</td>\n",
       "      <td>6.574572e+20</td>\n",
       "      <td>0.155421</td>\n",
       "      <td>47014961.6</td>\n",
       "      <td>6228.03</td>\n",
       "      <td>3997929.0</td>\n",
       "      <td>536870912</td>\n",
       "      <td>9.0</td>\n",
       "      <td>6.345588</td>\n",
       "    </tr>\n",
       "    <tr>\n",
       "      <th>2023-08-15 13:16:21</th>\n",
       "      <td>803302</td>\n",
       "      <td>29452.0</td>\n",
       "      <td>6.205224</td>\n",
       "      <td>200.000000</td>\n",
       "      <td>2.548790</td>\n",
       "      <td>2.317460</td>\n",
       "      <td>2.206349</td>\n",
       "      <td>2.500000</td>\n",
       "      <td>2.451369</td>\n",
       "      <td>5.239118e+13</td>\n",
       "      <td>6.574572e+20</td>\n",
       "      <td>0.155512</td>\n",
       "      <td>47014961.6</td>\n",
       "      <td>4308.00</td>\n",
       "      <td>3993126.0</td>\n",
       "      <td>783720448</td>\n",
       "      <td>497.0</td>\n",
       "      <td>6.389706</td>\n",
       "    </tr>\n",
       "    <tr>\n",
       "      <th>2023-08-15 13:26:12</th>\n",
       "      <td>803303</td>\n",
       "      <td>29460.0</td>\n",
       "      <td>6.205224</td>\n",
       "      <td>200.000000</td>\n",
       "      <td>2.550336</td>\n",
       "      <td>2.317460</td>\n",
       "      <td>2.206349</td>\n",
       "      <td>2.500000</td>\n",
       "      <td>2.456636</td>\n",
       "      <td>5.239118e+13</td>\n",
       "      <td>6.574572e+20</td>\n",
       "      <td>0.155637</td>\n",
       "      <td>47014961.6</td>\n",
       "      <td>3335.00</td>\n",
       "      <td>3993490.0</td>\n",
       "      <td>830971904</td>\n",
       "      <td>591.0</td>\n",
       "      <td>7.059715</td>\n",
       "    </tr>\n",
       "    <tr>\n",
       "      <th>...</th>\n",
       "      <td>...</td>\n",
       "      <td>...</td>\n",
       "      <td>...</td>\n",
       "      <td>...</td>\n",
       "      <td>...</td>\n",
       "      <td>...</td>\n",
       "      <td>...</td>\n",
       "      <td>...</td>\n",
       "      <td>...</td>\n",
       "      <td>...</td>\n",
       "      <td>...</td>\n",
       "      <td>...</td>\n",
       "      <td>...</td>\n",
       "      <td>...</td>\n",
       "      <td>...</td>\n",
       "      <td>...</td>\n",
       "      <td>...</td>\n",
       "      <td>...</td>\n",
       "    </tr>\n",
       "    <tr>\n",
       "      <th>2024-02-11 16:54:13</th>\n",
       "      <td>829994</td>\n",
       "      <td>114970.0</td>\n",
       "      <td>40.197975</td>\n",
       "      <td>77.659574</td>\n",
       "      <td>2.166685</td>\n",
       "      <td>2.301587</td>\n",
       "      <td>1.098837</td>\n",
       "      <td>2.507937</td>\n",
       "      <td>0.838035</td>\n",
       "      <td>7.550217e+13</td>\n",
       "      <td>6.198125e+20</td>\n",
       "      <td>0.747854</td>\n",
       "      <td>263447344.0</td>\n",
       "      <td>2171.00</td>\n",
       "      <td>3993477.0</td>\n",
       "      <td>849379328</td>\n",
       "      <td>570.0</td>\n",
       "      <td>20.000000</td>\n",
       "    </tr>\n",
       "    <tr>\n",
       "      <th>2024-02-11 17:14:00</th>\n",
       "      <td>829995</td>\n",
       "      <td>115225.0</td>\n",
       "      <td>40.232427</td>\n",
       "      <td>77.659574</td>\n",
       "      <td>2.167829</td>\n",
       "      <td>2.301587</td>\n",
       "      <td>1.098837</td>\n",
       "      <td>2.507937</td>\n",
       "      <td>0.843237</td>\n",
       "      <td>7.550217e+13</td>\n",
       "      <td>6.198125e+20</td>\n",
       "      <td>0.748885</td>\n",
       "      <td>263766816.0</td>\n",
       "      <td>3031.00</td>\n",
       "      <td>3993059.0</td>\n",
       "      <td>797360128</td>\n",
       "      <td>1187.0</td>\n",
       "      <td>25.199050</td>\n",
       "    </tr>\n",
       "    <tr>\n",
       "      <th>2024-02-11 17:24:07</th>\n",
       "      <td>829996</td>\n",
       "      <td>115399.0</td>\n",
       "      <td>40.257759</td>\n",
       "      <td>77.659574</td>\n",
       "      <td>2.169418</td>\n",
       "      <td>2.301587</td>\n",
       "      <td>1.098837</td>\n",
       "      <td>2.507937</td>\n",
       "      <td>0.855287</td>\n",
       "      <td>7.550217e+13</td>\n",
       "      <td>6.198125e+20</td>\n",
       "      <td>0.749860</td>\n",
       "      <td>263989824.0</td>\n",
       "      <td>2676.00</td>\n",
       "      <td>3993783.0</td>\n",
       "      <td>574103552</td>\n",
       "      <td>607.0</td>\n",
       "      <td>17.000000</td>\n",
       "    </tr>\n",
       "    <tr>\n",
       "      <th>2024-02-11 17:36:01</th>\n",
       "      <td>829997</td>\n",
       "      <td>115652.0</td>\n",
       "      <td>40.294566</td>\n",
       "      <td>77.659574</td>\n",
       "      <td>2.170365</td>\n",
       "      <td>2.301587</td>\n",
       "      <td>1.098837</td>\n",
       "      <td>2.507937</td>\n",
       "      <td>0.856538</td>\n",
       "      <td>7.550217e+13</td>\n",
       "      <td>6.198125e+20</td>\n",
       "      <td>0.750889</td>\n",
       "      <td>264319392.0</td>\n",
       "      <td>2256.00</td>\n",
       "      <td>3992981.0</td>\n",
       "      <td>547356676</td>\n",
       "      <td>714.0</td>\n",
       "      <td>21.248718</td>\n",
       "    </tr>\n",
       "    <tr>\n",
       "      <th>2024-02-11 17:53:26</th>\n",
       "      <td>829998</td>\n",
       "      <td>115990.0</td>\n",
       "      <td>40.350023</td>\n",
       "      <td>77.659574</td>\n",
       "      <td>2.172347</td>\n",
       "      <td>2.301587</td>\n",
       "      <td>1.098837</td>\n",
       "      <td>2.507937</td>\n",
       "      <td>0.870965</td>\n",
       "      <td>7.550217e+13</td>\n",
       "      <td>6.198125e+20</td>\n",
       "      <td>0.752826</td>\n",
       "      <td>264793376.0</td>\n",
       "      <td>2824.00</td>\n",
       "      <td>3993442.0</td>\n",
       "      <td>838860800</td>\n",
       "      <td>1045.0</td>\n",
       "      <td>24.851064</td>\n",
       "    </tr>\n",
       "  </tbody>\n",
       "</table>\n",
       "<p>26700 rows × 18 columns</p>\n",
       "</div>"
      ]
     },
     "execution_count": 129,
     "metadata": {},
     "output_type": "execute_result"
    }
   ],
   "execution_count": 129
  },
  {
   "metadata": {},
   "cell_type": "markdown",
   "source": "Feature engineering",
   "id": "d576b865fdc13a4c"
  },
  {
   "metadata": {},
   "cell_type": "markdown",
   "source": [
    "a) Interaction Terms:\n",
    "Create interaction features that combine existing features to capture non-linear relationships. For example:\n",
    "\n",
    "Transaction Count × Mempool Size: This might capture congestion in the network.\n",
    "Fee Rate × Transaction Count: Can help model how fee rates change with transaction volumes."
   ],
   "id": "80a216ae11ead9fb"
  },
  {
   "metadata": {
    "ExecuteTime": {
     "end_time": "2024-09-22T18:41:25.040252Z",
     "start_time": "2024-09-22T18:41:25.025700Z"
    }
   },
   "cell_type": "code",
   "source": [
    "\n",
    "X_train['tx_count_mempool_size'] = X_train['tx_count'] * X_train['mempool_size_mb']\n",
    "X_test['tx_count_mempool_size'] = X_test['tx_count'] * X_test['mempool_size_mb']\n"
   ],
   "id": "d219e0fac3172be",
   "outputs": [],
   "execution_count": 130
  },
  {
   "metadata": {},
   "cell_type": "markdown",
   "source": [
    "b) Historical Rolling Features:\n",
    "Create features based on historical data trends, such as:\n",
    "\n",
    "Rolling averages (mean fee rate over the past N blocks).\n",
    "Rolling standard deviation (how variable the fee rates are)."
   ],
   "id": "8ac07823f10a7a8"
  },
  {
   "metadata": {},
   "cell_type": "markdown",
   "source": "",
   "id": "115e0ea08aceff97"
  },
  {
   "metadata": {
    "ExecuteTime": {
     "end_time": "2024-09-22T18:41:25.076198Z",
     "start_time": "2024-09-22T18:41:25.040949Z"
    }
   },
   "cell_type": "code",
   "source": [
    "# Example: Calculate rolling average of 'avg_fee_rate'\n",
    "X_train['rolling_avg_fee'] = X_train['avg_fee_rate'].rolling(window=10).mean()\n",
    "X_test['rolling_avg_fee'] = X_test['avg_fee_rate'].rolling(window=10).mean()\n"
   ],
   "id": "b31434e451878227",
   "outputs": [],
   "execution_count": 131
  },
  {
   "metadata": {},
   "cell_type": "markdown",
   "source": [
    "c) Lagged Features:\n",
    "Introduce lagged values of important features like fee rates, transaction counts, or mempool size to capture temporal dependencies."
   ],
   "id": "15729acfbdc11183"
  },
  {
   "metadata": {
    "ExecuteTime": {
     "end_time": "2024-09-22T18:41:25.080710Z",
     "start_time": "2024-09-22T18:41:25.077084Z"
    }
   },
   "cell_type": "code",
   "source": [
    "X_train['lagged_avg_fee_rate'] = X_train['avg_fee_rate'].shift(1)\n",
    "X_test['lagged_avg_fee_rate'] = X_test['avg_fee_rate'].shift(1)\n"
   ],
   "id": "53ea1b73bc1a5273",
   "outputs": [],
   "execution_count": 132
  },
  {
   "metadata": {},
   "cell_type": "markdown",
   "source": [
    "d) Log Transformation:\n",
    "Apply log transformation to skewed data. Features like transaction counts or mempool size might have long tails. Applying a log transformation can help."
   ],
   "id": "243fe65b524e6dc2"
  },
  {
   "metadata": {
    "ExecuteTime": {
     "end_time": "2024-09-22T18:41:25.086389Z",
     "start_time": "2024-09-22T18:41:25.081569Z"
    }
   },
   "cell_type": "code",
   "source": [
    "X_train['log_tx_count'] = np.log1p(X_train['tx_count'])\n",
    "X_test['log_tx_count'] = np.log1p(X_test['tx_count'])\n"
   ],
   "id": "202375d749dd7b64",
   "outputs": [],
   "execution_count": 133
  },
  {
   "metadata": {
    "ExecuteTime": {
     "end_time": "2024-09-22T18:41:25.332087Z",
     "start_time": "2024-09-22T18:41:25.087117Z"
    }
   },
   "cell_type": "code",
   "source": [
    "# Feature engineering  for XGBoost\n",
    "xgb_model = xgb.XGBRegressor(n_estimators=100, random_state=42)\n",
    "xgb_model.fit(X_train, y_train)\n",
    "xgb_y_pred = xgb_model.predict(X_test)\n",
    "results['XGBoost (Feature engineering)'] = {\n",
    "    'MAE': mean_absolute_error(y_test, xgb_y_pred),\n",
    "    'RMSE': np.sqrt(mean_squared_error(y_test, xgb_y_pred)),\n",
    "    'R²': r2_score(y_test, xgb_y_pred)\n",
    "}"
   ],
   "id": "7d4c69a404aaa3d2",
   "outputs": [],
   "execution_count": 134
  },
  {
   "metadata": {
    "ExecuteTime": {
     "end_time": "2024-09-22T18:41:25.334908Z",
     "start_time": "2024-09-22T18:41:25.332856Z"
    }
   },
   "cell_type": "code",
   "source": "results",
   "id": "75f3b167f21869d8",
   "outputs": [
    {
     "data": {
      "text/plain": [
       "{'Random Forest (Tuned)': {'MAE': 6.292347635890187,\n",
       "  'RMSE': 12.50958145205259,\n",
       "  'R²': 0.9642003435286666},\n",
       " 'XGBoost (Important Features)': {'MAE': 8.157239716745382,\n",
       "  'RMSE': 15.012403004893006,\n",
       "  'R²': 0.9484422769075563},\n",
       " 'XGBoost': {'MAE': 8.42647087287646,\n",
       "  'RMSE': 15.469208442586403,\n",
       "  'R²': 0.9452568878154366},\n",
       " 'XGBoost (Scaled features)': {'MAE': 8.086808847095037,\n",
       "  'RMSE': 14.688989870059165,\n",
       "  'R²': 0.9506397712782884},\n",
       " 'XGBoost (Feature engineering)': {'MAE': 8.56154125996463,\n",
       "  'RMSE': 15.311160299774247,\n",
       "  'R²': 0.9463697887726877}}"
      ]
     },
     "execution_count": 135,
     "metadata": {},
     "output_type": "execute_result"
    }
   ],
   "execution_count": 135
  },
  {
   "metadata": {
    "ExecuteTime": {
     "end_time": "2024-09-22T18:42:07.844910Z",
     "start_time": "2024-09-22T18:41:25.335588Z"
    }
   },
   "cell_type": "code",
   "source": [
    "# Define the parameter grid\n",
    "param_grid = {\n",
    "    'n_estimators': [100, 200, 300, 500],\n",
    "    'max_depth': [3, 5, 7, 9],\n",
    "    'learning_rate': [0.01, 0.05, 0.1],\n",
    "    'subsample': [0.5, 0.7, 1.0],\n",
    "    'colsample_bytree': [0.5, 0.7, 1.0],\n",
    "    'gamma': [0, 0.1, 0.3],\n",
    "    'reg_alpha': [0, 0.1, 0.5],\n",
    "    'reg_lambda': [1, 1.5, 2]\n",
    "}\n",
    "\n",
    "# Initialize XGBoost model\n",
    "xgb_model = xgb.XGBRegressor(random_state=42)\n",
    "\n",
    "# Initialize RandomizedSearchCV\n",
    "xgb_random = RandomizedSearchCV(estimator=xgb_model, param_distributions=param_grid,\n",
    "                                n_iter=50, cv=3, verbose=2, random_state=42, n_jobs=-1)\n",
    "\n",
    "# Fit the random search model\n",
    "xgb_random.fit(X_train, y_train)\n",
    "\n",
    "# Get the best parameters\n",
    "best_params = xgb_random.best_params_\n",
    "print(\"Best parameters found: \", best_params)\n",
    "\n",
    "# Evaluate the best model\n",
    "xgb_best = xgb_random.best_estimator_\n",
    "xgb_y_pred_best = xgb_best.predict(X_test)\n",
    "\n",
    "results['XGBoost (Tuned)'] = {\n",
    "    'MAE': mean_absolute_error(y_test, xgb_y_pred_best),\n",
    "    'RMSE': np.sqrt(mean_squared_error(y_test, xgb_y_pred_best)),\n",
    "    'R²': r2_score(y_test, xgb_y_pred_best)\n",
    "}\n",
    "\n",
    "\n"
   ],
   "id": "649f9e81192085f7",
   "outputs": [
    {
     "name": "stdout",
     "output_type": "stream",
     "text": [
      "Fitting 3 folds for each of 50 candidates, totalling 150 fits\n",
      "Best parameters found:  {'subsample': 1.0, 'reg_lambda': 1.5, 'reg_alpha': 0.5, 'n_estimators': 500, 'max_depth': 9, 'learning_rate': 0.05, 'gamma': 0, 'colsample_bytree': 0.5}\n"
     ]
    }
   ],
   "execution_count": 136
  },
  {
   "metadata": {
    "ExecuteTime": {
     "end_time": "2024-09-22T18:42:07.852692Z",
     "start_time": "2024-09-22T18:42:07.847299Z"
    }
   },
   "cell_type": "code",
   "source": "results",
   "id": "c98259d8bfc60fa5",
   "outputs": [
    {
     "data": {
      "text/plain": [
       "{'Random Forest (Tuned)': {'MAE': 6.292347635890187,\n",
       "  'RMSE': 12.50958145205259,\n",
       "  'R²': 0.9642003435286666},\n",
       " 'XGBoost (Important Features)': {'MAE': 8.157239716745382,\n",
       "  'RMSE': 15.012403004893006,\n",
       "  'R²': 0.9484422769075563},\n",
       " 'XGBoost': {'MAE': 8.42647087287646,\n",
       "  'RMSE': 15.469208442586403,\n",
       "  'R²': 0.9452568878154366},\n",
       " 'XGBoost (Scaled features)': {'MAE': 8.086808847095037,\n",
       "  'RMSE': 14.688989870059165,\n",
       "  'R²': 0.9506397712782884},\n",
       " 'XGBoost (Feature engineering)': {'MAE': 8.56154125996463,\n",
       "  'RMSE': 15.311160299774247,\n",
       "  'R²': 0.9463697887726877},\n",
       " 'XGBoost (Tuned)': {'MAE': 6.697133522330637,\n",
       "  'RMSE': 12.838870429801553,\n",
       "  'R²': 0.9622908335367845}}"
      ]
     },
     "execution_count": 137,
     "metadata": {},
     "output_type": "execute_result"
    }
   ],
   "execution_count": 137
  },
  {
   "metadata": {},
   "cell_type": "markdown",
   "source": "Neural net works- LSTM",
   "id": "c557c1505e29fe56"
  },
  {
   "metadata": {
    "ExecuteTime": {
     "end_time": "2024-09-22T18:42:08.716072Z",
     "start_time": "2024-09-22T18:42:07.855586Z"
    }
   },
   "cell_type": "code",
   "source": "!pip install scikeras\n",
   "id": "f3ff4c4ca0ec47fc",
   "outputs": [
    {
     "name": "stdout",
     "output_type": "stream",
     "text": [
      "Requirement already satisfied: scikeras in /Users/jiangqinma/miniconda3/envs/bitcoin/lib/python3.11/site-packages (0.13.0)\r\n",
      "Requirement already satisfied: keras>=3.2.0 in /Users/jiangqinma/miniconda3/envs/bitcoin/lib/python3.11/site-packages (from scikeras) (3.5.0)\r\n",
      "Requirement already satisfied: scikit-learn>=1.4.2 in /Users/jiangqinma/miniconda3/envs/bitcoin/lib/python3.11/site-packages (from scikeras) (1.5.1)\r\n",
      "Requirement already satisfied: absl-py in /Users/jiangqinma/miniconda3/envs/bitcoin/lib/python3.11/site-packages (from keras>=3.2.0->scikeras) (2.1.0)\r\n",
      "Requirement already satisfied: numpy in /Users/jiangqinma/miniconda3/envs/bitcoin/lib/python3.11/site-packages (from keras>=3.2.0->scikeras) (1.26.4)\r\n",
      "Requirement already satisfied: rich in /Users/jiangqinma/miniconda3/envs/bitcoin/lib/python3.11/site-packages (from keras>=3.2.0->scikeras) (13.8.0)\r\n",
      "Requirement already satisfied: namex in /Users/jiangqinma/miniconda3/envs/bitcoin/lib/python3.11/site-packages (from keras>=3.2.0->scikeras) (0.0.8)\r\n",
      "Requirement already satisfied: h5py in /Users/jiangqinma/miniconda3/envs/bitcoin/lib/python3.11/site-packages (from keras>=3.2.0->scikeras) (3.11.0)\r\n",
      "Requirement already satisfied: optree in /Users/jiangqinma/miniconda3/envs/bitcoin/lib/python3.11/site-packages (from keras>=3.2.0->scikeras) (0.12.1)\r\n",
      "Requirement already satisfied: ml-dtypes in /Users/jiangqinma/miniconda3/envs/bitcoin/lib/python3.11/site-packages (from keras>=3.2.0->scikeras) (0.4.0)\r\n",
      "Requirement already satisfied: packaging in /Users/jiangqinma/miniconda3/envs/bitcoin/lib/python3.11/site-packages (from keras>=3.2.0->scikeras) (24.1)\r\n",
      "Requirement already satisfied: scipy>=1.6.0 in /Users/jiangqinma/miniconda3/envs/bitcoin/lib/python3.11/site-packages (from scikit-learn>=1.4.2->scikeras) (1.14.1)\r\n",
      "Requirement already satisfied: joblib>=1.2.0 in /Users/jiangqinma/miniconda3/envs/bitcoin/lib/python3.11/site-packages (from scikit-learn>=1.4.2->scikeras) (1.4.2)\r\n",
      "Requirement already satisfied: threadpoolctl>=3.1.0 in /Users/jiangqinma/miniconda3/envs/bitcoin/lib/python3.11/site-packages (from scikit-learn>=1.4.2->scikeras) (3.5.0)\r\n",
      "Requirement already satisfied: typing-extensions>=4.5.0 in /Users/jiangqinma/miniconda3/envs/bitcoin/lib/python3.11/site-packages (from optree->keras>=3.2.0->scikeras) (4.12.2)\r\n",
      "Requirement already satisfied: markdown-it-py>=2.2.0 in /Users/jiangqinma/miniconda3/envs/bitcoin/lib/python3.11/site-packages (from rich->keras>=3.2.0->scikeras) (3.0.0)\r\n",
      "Requirement already satisfied: pygments<3.0.0,>=2.13.0 in /Users/jiangqinma/miniconda3/envs/bitcoin/lib/python3.11/site-packages (from rich->keras>=3.2.0->scikeras) (2.18.0)\r\n",
      "Requirement already satisfied: mdurl~=0.1 in /Users/jiangqinma/miniconda3/envs/bitcoin/lib/python3.11/site-packages (from markdown-it-py>=2.2.0->rich->keras>=3.2.0->scikeras) (0.1.2)\r\n"
     ]
    }
   ],
   "execution_count": 138
  },
  {
   "metadata": {},
   "cell_type": "markdown",
   "source": "Use google colab  GPU to training the following LSTM model to save time",
   "id": "9be8608303c682ce"
  },
  {
   "metadata": {
    "ExecuteTime": {
     "end_time": "2024-09-23T03:19:15.972201Z",
     "start_time": "2024-09-23T03:18:39.329618Z"
    }
   },
   "cell_type": "code",
   "source": [
    "# 3. LSTM Model\n",
    "def create_lstm_model(input_shape):\n",
    "    model = Sequential()\n",
    "    model.add(LSTM(units=50, return_sequences=True, input_shape=input_shape))\n",
    "    model.add(LSTM(units=50))\n",
    "    model.add(Dense(1))\n",
    "    model.compile(loss='mean_squared_error', optimizer='adam')\n",
    "    return model\n",
    "\n",
    "# Reshape data for LSTM\n",
    "X_train_lstm = X_train.values.reshape((X_train.shape[0], X_train.shape[1], 1))\n",
    "X_test_lstm = X_test.values.reshape((X_test.shape[0], X_test.shape[1], 1))\n",
    "\n",
    "lstm_model = create_lstm_model((X_train_lstm.shape[1], 1))\n",
    "lstm_model.fit(X_train_lstm, y_train, epochs=10, batch_size=32, verbose=2)\n",
    "lstm_y_pred = lstm_model.predict(X_test_lstm)\n",
    "results['LSTM'] = {\n",
    "    'MAE': mean_absolute_error(y_test, lstm_y_pred),\n",
    "    'RMSE': np.sqrt(mean_squared_error(y_test, lstm_y_pred)),\n",
    "    'R²': r2_score(y_test, lstm_y_pred)\n",
    "}"
   ],
   "id": "93c7281d5bf6d67c",
   "outputs": [
    {
     "name": "stdout",
     "output_type": "stream",
     "text": [
      "Epoch 1/10\n"
     ]
    },
    {
     "name": "stderr",
     "output_type": "stream",
     "text": [
      "/Users/jiangqinma/miniconda3/envs/bitcoin/lib/python3.11/site-packages/keras/src/layers/rnn/rnn.py:204: UserWarning: Do not pass an `input_shape`/`input_dim` argument to a layer. When using Sequential models, prefer using an `Input(shape)` object as the first layer in the model instead.\n",
      "  super().__init__(**kwargs)\n"
     ]
    },
    {
     "name": "stdout",
     "output_type": "stream",
     "text": [
      "668/668 - 4s - 7ms/step - loss: 5924.9253\n",
      "Epoch 2/10\n",
      "668/668 - 3s - 5ms/step - loss: 4803.0620\n",
      "Epoch 3/10\n",
      "668/668 - 4s - 6ms/step - loss: 4626.8213\n",
      "Epoch 4/10\n",
      "668/668 - 4s - 5ms/step - loss: 4613.3721\n",
      "Epoch 5/10\n",
      "668/668 - 3s - 5ms/step - loss: 4613.5342\n",
      "Epoch 6/10\n",
      "668/668 - 3s - 5ms/step - loss: 4596.4043\n",
      "Epoch 7/10\n",
      "668/668 - 3s - 5ms/step - loss: 4579.4526\n",
      "Epoch 8/10\n",
      "668/668 - 3s - 5ms/step - loss: 4519.6309\n",
      "Epoch 9/10\n",
      "668/668 - 3s - 5ms/step - loss: 3516.1948\n",
      "Epoch 10/10\n",
      "668/668 - 3s - 5ms/step - loss: 3043.9177\n",
      "\u001B[1m167/167\u001B[0m \u001B[32m━━━━━━━━━━━━━━━━━━━━\u001B[0m\u001B[37m\u001B[0m \u001B[1m2s\u001B[0m 2ms/step\n"
     ]
    }
   ],
   "execution_count": 144
  },
  {
   "metadata": {
    "ExecuteTime": {
     "end_time": "2024-09-23T03:19:15.976649Z",
     "start_time": "2024-09-23T03:19:15.973296Z"
    }
   },
   "cell_type": "code",
   "source": "results",
   "id": "2aa143f5bad30c69",
   "outputs": [
    {
     "data": {
      "text/plain": [
       "{'Random Forest (Tuned)': {'MAE': 6.292347635890187,\n",
       "  'RMSE': 12.50958145205259,\n",
       "  'R²': 0.9642003435286666},\n",
       " 'XGBoost (Important Features)': {'MAE': 8.157239716745382,\n",
       "  'RMSE': 15.012403004893006,\n",
       "  'R²': 0.9484422769075563},\n",
       " 'XGBoost': {'MAE': 8.42647087287646,\n",
       "  'RMSE': 15.469208442586403,\n",
       "  'R²': 0.9452568878154366},\n",
       " 'XGBoost (Scaled features)': {'MAE': 8.086808847095037,\n",
       "  'RMSE': 14.688989870059165,\n",
       "  'R²': 0.9506397712782884},\n",
       " 'XGBoost (Feature engineering)': {'MAE': 8.56154125996463,\n",
       "  'RMSE': 15.311160299774247,\n",
       "  'R²': 0.9463697887726877},\n",
       " 'XGBoost (Tuned)': {'MAE': 6.697133522330637,\n",
       "  'RMSE': 12.838870429801553,\n",
       "  'R²': 0.9622908335367845},\n",
       " 'LSTM': {'MAE': 27.85122086798246,\n",
       "  'RMSE': 52.48905780690147,\n",
       "  'R²': 0.3697238767812937}}"
      ]
     },
     "execution_count": 145,
     "metadata": {},
     "output_type": "execute_result"
    }
   ],
   "execution_count": 145
  },
  {
   "metadata": {
    "ExecuteTime": {
     "end_time": "2024-09-21T19:40:15.457521Z",
     "start_time": "2024-09-21T19:40:15.455862Z"
    }
   },
   "cell_type": "code",
   "source": "",
   "id": "b334419c62f8db7",
   "outputs": [],
   "execution_count": 17
  }
 ],
 "metadata": {
  "kernelspec": {
   "display_name": "Python 3 (ipykernel)",
   "language": "python",
   "name": "python3"
  },
  "language_info": {
   "codemirror_mode": {
    "name": "ipython",
    "version": 3
   },
   "file_extension": ".py",
   "mimetype": "text/x-python",
   "name": "python",
   "nbconvert_exporter": "python",
   "pygments_lexer": "ipython3",
   "version": "3.11.9"
  }
 },
 "nbformat": 4,
 "nbformat_minor": 5
}
